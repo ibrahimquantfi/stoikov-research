{
 "cells": [
  {
   "cell_type": "code",
   "execution_count": 1,
   "id": "0473854b",
   "metadata": {},
   "outputs": [],
   "source": [
    "import time\n",
    "import datetime\n",
    "import numpy as np\n",
    "import matplotlib.pyplot as plt\n",
    "import math\n",
    "from statistics import median\n",
    "import pandas as pd\n",
    "import glob\n",
    "import os\n",
    "import nest_asyncio\n",
    "# import gspread\n",
    "nest_asyncio.apply()\n",
    "from tardis_dev import datasets\n",
    "from scipy.optimize import curve_fit"
   ]
  },
  {
   "cell_type": "code",
   "execution_count": 2,
   "id": "baf50dc2",
   "metadata": {},
   "outputs": [],
   "source": [
    "def round_up(n, decimals=0):\n",
    "    multiplier = 10 ** decimals\n",
    "    return math.ceil(n * multiplier) / multiplier"
   ]
  },
  {
   "cell_type": "code",
   "execution_count": 4,
   "id": "38bcc480",
   "metadata": {},
   "outputs": [],
   "source": [
    "COIN_NAME = \"DOT\"\n",
    "\n",
    "datasets.download(\n",
    "exchange=\"coinbase\",\n",
    "data_types=[\n",
    "    \"quotes\"],\n",
    "from_date = '2022-11-09',\n",
    "to_date = '2022-11-10',\n",
    "symbols = [COIN_NAME + \"-USD\"],\n",
    "download_dir = r\"C:\\Users\\Temp_Student_001\\Desktop\\research\\0.projects\\Ariyan\\Dataset Coinbase\\\\\" + COIN_NAME + \"USD\",\n",
    "api_key= \"TD.CTo-GFKD9yJojKmk.0fsYIehJ-wDD1e-.FVe4814H5x7BkM7.uRoxlXUJQmcdRPz.HWyzjjLu4LiqBi4.sF6W\",\n",
    ")\n",
    "\n",
    "datasets.download(\n",
    "exchange=\"coinbase\",\n",
    "data_types=[\n",
    "    \"trades\"],\n",
    "from_date = '2022-11-09',\n",
    "to_date = '2022-11-10',\n",
    "symbols = [COIN_NAME + \"-USD\"],\n",
    "download_dir = r\"C:\\Users\\Temp_Student_001\\Desktop\\research\\0.projects\\Ariyan\\Dataset Coinbase\\\\\" + COIN_NAME + \"USD\",\n",
    "api_key= \"TD.CTo-GFKD9yJojKmk.0fsYIehJ-wDD1e-.FVe4814H5x7BkM7.uRoxlXUJQmcdRPz.HWyzjjLu4LiqBi4.sF6W\",\n",
    ")"
   ]
  },
  {
   "cell_type": "code",
   "execution_count": 5,
   "id": "1eb99cb6",
   "metadata": {},
   "outputs": [],
   "source": [
    "datasets.download(\n",
    "exchange=\"coinbase\",\n",
    "data_types=[\n",
    "    \"book_snapshot_25\"],\n",
    "from_date = '2022-11-09',\n",
    "to_date = '2022-11-10',\n",
    "symbols = [COIN_NAME + \"-USD\"],\n",
    "download_dir = r\"C:\\Users\\Temp_Student_001\\Desktop\\research\\0.projects\\Ariyan\\Dataset Coinbase\\\\\" + COIN_NAME + \"USD\",\n",
    "api_key= \"TD.CTo-GFKD9yJojKmk.0fsYIehJ-wDD1e-.FVe4814H5x7BkM7.uRoxlXUJQmcdRPz.HWyzjjLu4LiqBi4.sF6W\",\n",
    ")"
   ]
  },
  {
   "cell_type": "code",
   "execution_count": 6,
   "id": "0030bfe4",
   "metadata": {},
   "outputs": [],
   "source": [
    "quote_database = glob.glob(os.path.join(r\"C:\\Users\\Temp_Student_001\\Desktop\\research\\0.projects\\Ariyan\\Dataset Coinbase\\\\\" + COIN_NAME + \"USD\", \"coinbase_quotes*\" + \"2022-11-09_\" + COIN_NAME + \"-USD.csv.gz\"))\n",
    "df_quotes = pd.concat((pd.read_csv(f) for f in quote_database), ignore_index=True)\n",
    "df_quotes['timestamp'] = pd.to_datetime(df_quotes.timestamp * 1000)\n",
    "df_quotes['midprice'] = (df_quotes['ask_price'] + df_quotes['bid_price'])/2\n"
   ]
  },
  {
   "cell_type": "code",
   "execution_count": 7,
   "id": "d9a6d281",
   "metadata": {},
   "outputs": [],
   "source": [
    "orderbook_database =  glob.glob(os.path.join(r\"C:\\Users\\Temp_Student_001\\Desktop\\research\\0.projects\\Ariyan\\Dataset Coinbase\\\\\" + COIN_NAME + \"USD\", \"coinbase_book_snapshot_25*\" + \"2022-11-09_\" + COIN_NAME + \"-USD.csv.gz\"))\n",
    "\n",
    "df_orderbook = pd.concat((pd.read_csv(f) for f in orderbook_database), ignore_index=True)\n",
    "df_orderbook['timestamp'] = pd.to_datetime(df_orderbook.timestamp * 1000)\n",
    "\n"
   ]
  },
  {
   "cell_type": "code",
   "execution_count": 8,
   "id": "6e1fbe20",
   "metadata": {},
   "outputs": [],
   "source": [
    "trade_database = glob.glob(os.path.join(r\"C:\\Users\\Temp_Student_001\\Desktop\\research\\0.projects\\Ariyan\\Dataset Coinbase\\\\\" + COIN_NAME + \"USD\", \"coinbase_trades*\" + \"2022-11-09_\" + COIN_NAME + \"-USD.csv.gz\"))\n",
    "df_trades = pd.concat((pd.read_csv(f) for f in trade_database), ignore_index=True)\n",
    "df_trades['timestamp'] = pd.to_datetime(df_trades.timestamp * 1000)\n",
    "df_trades = df_trades[df_trades['timestamp'] >= df_quotes.loc[0, 'timestamp']]\n",
    "df_trades.index = range(len(df_trades))"
   ]
  },
  {
   "cell_type": "code",
   "execution_count": 9,
   "id": "2a117b5a",
   "metadata": {},
   "outputs": [
    {
     "data": {
      "text/html": [
       "<div>\n",
       "<style scoped>\n",
       "    .dataframe tbody tr th:only-of-type {\n",
       "        vertical-align: middle;\n",
       "    }\n",
       "\n",
       "    .dataframe tbody tr th {\n",
       "        vertical-align: top;\n",
       "    }\n",
       "\n",
       "    .dataframe thead th {\n",
       "        text-align: right;\n",
       "    }\n",
       "</style>\n",
       "<table border=\"1\" class=\"dataframe\">\n",
       "  <thead>\n",
       "    <tr style=\"text-align: right;\">\n",
       "      <th></th>\n",
       "      <th>exchange</th>\n",
       "      <th>symbol</th>\n",
       "      <th>timestamp</th>\n",
       "      <th>local_timestamp</th>\n",
       "      <th>ask_amount</th>\n",
       "      <th>ask_price</th>\n",
       "      <th>bid_price</th>\n",
       "      <th>bid_amount</th>\n",
       "      <th>midprice</th>\n",
       "      <th>spread</th>\n",
       "    </tr>\n",
       "  </thead>\n",
       "  <tbody>\n",
       "    <tr>\n",
       "      <th>0</th>\n",
       "      <td>coinbase</td>\n",
       "      <td>DOT-USD</td>\n",
       "      <td>2022-11-09 00:00:00.204544</td>\n",
       "      <td>1667952000204544</td>\n",
       "      <td>220.349</td>\n",
       "      <td>6.315</td>\n",
       "      <td>6.313</td>\n",
       "      <td>32.773</td>\n",
       "      <td>6.3140</td>\n",
       "      <td>0.002</td>\n",
       "    </tr>\n",
       "    <tr>\n",
       "      <th>1</th>\n",
       "      <td>coinbase</td>\n",
       "      <td>DOT-USD</td>\n",
       "      <td>2022-11-09 00:00:00.138036</td>\n",
       "      <td>1667952000210251</td>\n",
       "      <td>220.349</td>\n",
       "      <td>6.315</td>\n",
       "      <td>6.312</td>\n",
       "      <td>60.978</td>\n",
       "      <td>6.3135</td>\n",
       "      <td>0.003</td>\n",
       "    </tr>\n",
       "    <tr>\n",
       "      <th>2</th>\n",
       "      <td>coinbase</td>\n",
       "      <td>DOT-USD</td>\n",
       "      <td>2022-11-09 00:00:00.152537</td>\n",
       "      <td>1667952000271025</td>\n",
       "      <td>236.229</td>\n",
       "      <td>6.315</td>\n",
       "      <td>6.312</td>\n",
       "      <td>60.978</td>\n",
       "      <td>6.3135</td>\n",
       "      <td>0.003</td>\n",
       "    </tr>\n",
       "    <tr>\n",
       "      <th>3</th>\n",
       "      <td>coinbase</td>\n",
       "      <td>DOT-USD</td>\n",
       "      <td>2022-11-09 00:00:00.168128</td>\n",
       "      <td>1667952000271183</td>\n",
       "      <td>75.000</td>\n",
       "      <td>6.314</td>\n",
       "      <td>6.312</td>\n",
       "      <td>60.978</td>\n",
       "      <td>6.3130</td>\n",
       "      <td>0.002</td>\n",
       "    </tr>\n",
       "    <tr>\n",
       "      <th>4</th>\n",
       "      <td>coinbase</td>\n",
       "      <td>DOT-USD</td>\n",
       "      <td>2022-11-09 00:00:00.293470</td>\n",
       "      <td>1667952000347946</td>\n",
       "      <td>108.110</td>\n",
       "      <td>6.314</td>\n",
       "      <td>6.312</td>\n",
       "      <td>60.978</td>\n",
       "      <td>6.3130</td>\n",
       "      <td>0.002</td>\n",
       "    </tr>\n",
       "    <tr>\n",
       "      <th>...</th>\n",
       "      <td>...</td>\n",
       "      <td>...</td>\n",
       "      <td>...</td>\n",
       "      <td>...</td>\n",
       "      <td>...</td>\n",
       "      <td>...</td>\n",
       "      <td>...</td>\n",
       "      <td>...</td>\n",
       "      <td>...</td>\n",
       "      <td>...</td>\n",
       "    </tr>\n",
       "    <tr>\n",
       "      <th>1332666</th>\n",
       "      <td>coinbase</td>\n",
       "      <td>DOT-USD</td>\n",
       "      <td>2022-11-09 23:59:59.404458</td>\n",
       "      <td>1668038399452906</td>\n",
       "      <td>11.491</td>\n",
       "      <td>5.409</td>\n",
       "      <td>5.406</td>\n",
       "      <td>86.186</td>\n",
       "      <td>5.4075</td>\n",
       "      <td>0.003</td>\n",
       "    </tr>\n",
       "    <tr>\n",
       "      <th>1332667</th>\n",
       "      <td>coinbase</td>\n",
       "      <td>DOT-USD</td>\n",
       "      <td>2022-11-09 23:59:59.428016</td>\n",
       "      <td>1668038399475521</td>\n",
       "      <td>11.491</td>\n",
       "      <td>5.409</td>\n",
       "      <td>5.407</td>\n",
       "      <td>9.825</td>\n",
       "      <td>5.4080</td>\n",
       "      <td>0.002</td>\n",
       "    </tr>\n",
       "    <tr>\n",
       "      <th>1332668</th>\n",
       "      <td>coinbase</td>\n",
       "      <td>DOT-USD</td>\n",
       "      <td>2022-11-09 23:59:59.673374</td>\n",
       "      <td>1668038399717945</td>\n",
       "      <td>377.975</td>\n",
       "      <td>5.409</td>\n",
       "      <td>5.407</td>\n",
       "      <td>9.825</td>\n",
       "      <td>5.4080</td>\n",
       "      <td>0.002</td>\n",
       "    </tr>\n",
       "    <tr>\n",
       "      <th>1332669</th>\n",
       "      <td>coinbase</td>\n",
       "      <td>DOT-USD</td>\n",
       "      <td>2022-11-09 23:59:59.696470</td>\n",
       "      <td>1668038399740657</td>\n",
       "      <td>377.975</td>\n",
       "      <td>5.409</td>\n",
       "      <td>5.405</td>\n",
       "      <td>48.535</td>\n",
       "      <td>5.4070</td>\n",
       "      <td>0.004</td>\n",
       "    </tr>\n",
       "    <tr>\n",
       "      <th>1332670</th>\n",
       "      <td>coinbase</td>\n",
       "      <td>DOT-USD</td>\n",
       "      <td>2022-11-09 23:59:59.710732</td>\n",
       "      <td>1668038399755019</td>\n",
       "      <td>28.355</td>\n",
       "      <td>5.408</td>\n",
       "      <td>5.405</td>\n",
       "      <td>48.535</td>\n",
       "      <td>5.4065</td>\n",
       "      <td>0.003</td>\n",
       "    </tr>\n",
       "  </tbody>\n",
       "</table>\n",
       "<p>1332671 rows × 10 columns</p>\n",
       "</div>"
      ],
      "text/plain": [
       "         exchange   symbol                  timestamp   local_timestamp  \\\n",
       "0        coinbase  DOT-USD 2022-11-09 00:00:00.204544  1667952000204544   \n",
       "1        coinbase  DOT-USD 2022-11-09 00:00:00.138036  1667952000210251   \n",
       "2        coinbase  DOT-USD 2022-11-09 00:00:00.152537  1667952000271025   \n",
       "3        coinbase  DOT-USD 2022-11-09 00:00:00.168128  1667952000271183   \n",
       "4        coinbase  DOT-USD 2022-11-09 00:00:00.293470  1667952000347946   \n",
       "...           ...      ...                        ...               ...   \n",
       "1332666  coinbase  DOT-USD 2022-11-09 23:59:59.404458  1668038399452906   \n",
       "1332667  coinbase  DOT-USD 2022-11-09 23:59:59.428016  1668038399475521   \n",
       "1332668  coinbase  DOT-USD 2022-11-09 23:59:59.673374  1668038399717945   \n",
       "1332669  coinbase  DOT-USD 2022-11-09 23:59:59.696470  1668038399740657   \n",
       "1332670  coinbase  DOT-USD 2022-11-09 23:59:59.710732  1668038399755019   \n",
       "\n",
       "         ask_amount  ask_price  bid_price  bid_amount  midprice  spread  \n",
       "0           220.349      6.315      6.313      32.773    6.3140   0.002  \n",
       "1           220.349      6.315      6.312      60.978    6.3135   0.003  \n",
       "2           236.229      6.315      6.312      60.978    6.3135   0.003  \n",
       "3            75.000      6.314      6.312      60.978    6.3130   0.002  \n",
       "4           108.110      6.314      6.312      60.978    6.3130   0.002  \n",
       "...             ...        ...        ...         ...       ...     ...  \n",
       "1332666      11.491      5.409      5.406      86.186    5.4075   0.003  \n",
       "1332667      11.491      5.409      5.407       9.825    5.4080   0.002  \n",
       "1332668     377.975      5.409      5.407       9.825    5.4080   0.002  \n",
       "1332669     377.975      5.409      5.405      48.535    5.4070   0.004  \n",
       "1332670      28.355      5.408      5.405      48.535    5.4065   0.003  \n",
       "\n",
       "[1332671 rows x 10 columns]"
      ]
     },
     "execution_count": 9,
     "metadata": {},
     "output_type": "execute_result"
    }
   ],
   "source": [
    "df_quotes['spread'] = df_quotes.ask_price - df_quotes.bid_price\n",
    "df_quotes"
   ]
  },
  {
   "cell_type": "code",
   "execution_count": 10,
   "id": "ee5e8555",
   "metadata": {},
   "outputs": [],
   "source": [
    "df_trades = df_trades[3800:5000]\n",
    "df_trades.index = range(len(df_trades))"
   ]
  },
  {
   "cell_type": "code",
   "execution_count": 11,
   "id": "45849023",
   "metadata": {},
   "outputs": [
    {
     "name": "stdout",
     "output_type": "stream",
     "text": [
      "Max spread: 0.09199999999999964,\n",
      "gamma: 1,\n",
      "max_kappa: 1999.500041667901.\n",
      "Min spread: 0.0009999999999994458,\n",
      "min_kappa: 21.242963632933954.\n"
     ]
    }
   ],
   "source": [
    "max_spread, min_spread = max(df_quotes.spread), min(df_quotes.spread)\n",
    "gamma = 1\n",
    "max_kappa, min_kappa = gamma / (np.exp(gamma * min_spread * 0.5) - 1), gamma / (np.exp(gamma * max_spread * 0.5) - 1)\n",
    "print('Max spread: {},\\ngamma: {},\\nmax_kappa: {}.'.format(max_spread, gamma, max_kappa))\n",
    "print('Min spread: {},\\nmin_kappa: {}.'.format(min_spread, min_kappa))"
   ]
  },
  {
   "cell_type": "code",
   "execution_count": 12,
   "id": "6ef167c3",
   "metadata": {},
   "outputs": [],
   "source": [
    "def curve_fit_manual(x, y, alpha, kappa):\n",
    "    def residuals(params):\n",
    "        a = params[0]\n",
    "        b = params[1]\n",
    "        \n",
    "        sum = 0\n",
    "        for i in range(len(x)):\n",
    "            sum += (y[i] - (a * np.exp(-b * x[i]))) ** 2\n",
    "        return sum\n",
    "    \n",
    "    learning_rate = 0.01\n",
    "    precision = 0.001\n",
    "    \n",
    "    a = alpha\n",
    "    b = kappa\n",
    "    da = 1\n",
    "    db = 1\n",
    "    \n",
    "    time_start = datetime.datetime.now()\n",
    "    \n",
    "    while abs(da) > precision or abs(db) > precision:\n",
    "        da = (residuals([a + precision, b]) - residuals([a, b])) / precision\n",
    "        db = (residuals([a, b + precision]) - residuals([a, b])) / precision\n",
    "        \n",
    "        a -= learning_rate * da\n",
    "        b -= learning_rate * db\n",
    "        \n",
    "        now = datetime.datetime.now()\n",
    "        \n",
    "        if (now - time_start).seconds > 1: \n",
    "            a = 0 \n",
    "            b = 0\n",
    "            \n",
    "            break\n",
    "            \n",
    "        \n",
    "    if a < 0: \n",
    "        a = 0 \n",
    "    if b < 0: \n",
    "        b = 0\n",
    "    \n",
    "    return a, b"
   ]
  },
  {
   "cell_type": "code",
   "execution_count": 13,
   "id": "792c3e23",
   "metadata": {},
   "outputs": [
    {
     "name": "stdout",
     "output_type": "stream",
     "text": [
      "Calculating (39.386%))\r"
     ]
    }
   ],
   "source": [
    "start_timestamp = df_quotes.loc[0, 'timestamp']\n",
    "\n",
    "alpha, kappa = 0, 0\n",
    "prev_alpha, prev_kappa = 0,0\n",
    "\n",
    "min_kappa = 28 #use same min kappas as earlier calculated, see min kappas.csv file\n",
    "min_alpha = 0 \n",
    "\n",
    "max_alpha = 50000000\n",
    "min_notional = 0.001 #smallest difference in price, cannot be smaller than this\n",
    "\n",
    "max_kappa = 1/(math.e**(min_notional*0.5) - 1)\n",
    "\n",
    "alphas, kappas = [], []\n",
    "sampling_length = 30\n",
    "\n",
    "for i in range(len(df_trades) - (sampling_length+30)):\n",
    "    trade_samples = {}\n",
    "    \n",
    "    current_trade_sample = df_trades.loc[i:i+sampling_length+30][['timestamp', 'price', 'amount']]\n",
    "    current_trade_sample.index = range(len(current_trade_sample))\n",
    "    \n",
    "    current_quote_sample = df_quotes[(df_quotes['timestamp'] >= start_timestamp) & \n",
    "                                    (df_quotes['timestamp'] < current_trade_sample.loc[len(current_trade_sample)-1, 'timestamp'])]\n",
    "    \n",
    "    #get price levels for each trade\n",
    "    for j in range(len(current_trade_sample)):\n",
    "        \n",
    "        last_quote_df = df_quotes[df_quotes['timestamp'] < current_trade_sample.loc[j, 'timestamp']]\n",
    "        last_quote_df.index = range(len(last_quote_df))\n",
    "        \n",
    "        #Get last quote price & timestamp\n",
    "        last_quote_price = last_quote_df.loc[len(last_quote_df)-1, 'midprice']\n",
    "        last_quote_timestamp = current_trade_sample.loc[j, 'timestamp']\n",
    "        \n",
    "        #last_quote_timestamp = last_quote_df.loc[len(last_quote_df)-1, 'timestamp']\n",
    "        \n",
    "        trade = {\"price_level\": round((abs(current_trade_sample.loc[j, 'price'] - float(last_quote_price))), 4), \n",
    "                 \"amount\": current_trade_sample.loc[j, 'amount']}\n",
    "        \n",
    "        if last_quote_timestamp not in trade_samples.keys():\n",
    "            trade_samples[last_quote_timestamp] = []\n",
    "        \n",
    "        trade_samples[last_quote_timestamp] += [trade]\n",
    "    \n",
    "\n",
    "    if len(trade_samples.keys()) > sampling_length:\n",
    "        timestamps = list(trade_samples.keys())\n",
    "        timestamps.sort()\n",
    "        timestamps = timestamps[:sampling_length]\n",
    "\n",
    "        trade_samples_new = {}\n",
    "        \n",
    "        for timestamp in timestamps:\n",
    "            trade_samples_new[timestamp] = trade_samples[timestamp]\n",
    "            \n",
    "        trade_samples = trade_samples_new\n",
    "            \n",
    "    \n",
    "    ##We now have last 30 trades with price levels for each i\n",
    "    \n",
    "    # Calculate lambdas / trading intensities\n",
    "    lambdas = []\n",
    "    trades_consolidated = {} \n",
    "    price_levels = []\n",
    "\n",
    "    for timestamp in trade_samples.keys():\n",
    "        tick = trade_samples[timestamp]\n",
    "\n",
    "        for trade in tick: \n",
    "            if trade['price_level'] not in trades_consolidated.keys():\n",
    "                trades_consolidated[trade['price_level']] = 0\n",
    "                price_levels += [trade['price_level']]\n",
    "            \n",
    "            trades_consolidated[trade['price_level']] += trade['amount']\n",
    "    \n",
    "    #UPDATE LAMBDAS\n",
    "    for price_level in price_levels:\n",
    "        lambdas += [trades_consolidated[price_level]]\n",
    "        \n",
    "    for price_level in trades_consolidated.copy():\n",
    "        if trades_consolidated[price_level] < 100:\n",
    "            del trades_consolidated[price_level]\n",
    "\n",
    "    # Adjust to be able to calculate log\n",
    "    lambdas_adj = [10**-10 if x==0 else x for x in lambdas]\n",
    "    \n",
    "    ##First assign previous alpha & kappa \n",
    "    alpha_fit, kappa_fit = curve_fit_manual(price_levels, lambdas_adj, 0, 0)\n",
    "    \n",
    "    alpha = max(min(max_alpha, alpha_fit), min_alpha)\n",
    "    kappa = max(min(max_kappa, kappa_fit), min_kappa)\n",
    "    \n",
    "    alphas.append(alpha)\n",
    "    kappas.append(kappa)\n",
    "    \n",
    "    if len(alphas) > 1:\n",
    "        prev_alpha = alphas[-2]\n",
    "        prev_kappa = kappas[-2]\n",
    "    \n",
    "    if (alpha == 0) and (prev_alpha != 0) and len(alphas) > 1: \n",
    "        alphas[-1] = prev_alpha\n",
    "        alpha = 0\n",
    "        \n",
    "    if (kappa == 0) and (prev_kappa != 0) and len(kappas) > 1:\n",
    "        kappas[-1] = prev_kappa\n",
    "        kappa = 0\n",
    "        \n",
    "    if i % 1 == 0:\n",
    "        print(\"Calculating ({}\".format(np.round(100 * i / (len(df_trades) - (sampling_length+30)), 4)) + \"\"\"%)\"\"\", end='\\r')\n",
    "    \n",
    "    #Update start timestamp\n",
    "    start_timestamp = current_trade_sample.loc[0, 'timestamp'] "
   ]
  },
  {
   "cell_type": "code",
   "execution_count": 49,
   "id": "9e77795c",
   "metadata": {},
   "outputs": [
    {
     "data": {
      "text/plain": [
       "[0.0001, 0.0]"
      ]
     },
     "execution_count": 49,
     "metadata": {},
     "output_type": "execute_result"
    }
   ],
   "source": [
    "price_levels"
   ]
  },
  {
   "cell_type": "code",
   "execution_count": 50,
   "id": "87323cb0",
   "metadata": {},
   "outputs": [
    {
     "data": {
      "text/plain": [
       "[150801.69999999998, 81809.3]"
      ]
     },
     "execution_count": 50,
     "metadata": {},
     "output_type": "execute_result"
    }
   ],
   "source": [
    "lambdas_adj"
   ]
  },
  {
   "cell_type": "code",
   "execution_count": 51,
   "id": "ae3dab97",
   "metadata": {},
   "outputs": [
    {
     "data": {
      "text/plain": [
       "{0.0001: 150801.69999999998, 0.0: 81809.3}"
      ]
     },
     "execution_count": 51,
     "metadata": {},
     "output_type": "execute_result"
    }
   ],
   "source": [
    "trades_consolidated"
   ]
  },
  {
   "cell_type": "code",
   "execution_count": 52,
   "id": "45df572e",
   "metadata": {},
   "outputs": [
    {
     "data": {
      "text/plain": [
       "[<matplotlib.lines.Line2D at 0x1f8484f8280>]"
      ]
     },
     "execution_count": 52,
     "metadata": {},
     "output_type": "execute_result"
    },
    {
     "data": {
      "image/png": "[encoded data removed]",
      "text/plain": [
       "<Figure size 640x480 with 1 Axes>"
      ]
     },
     "metadata": {},
     "output_type": "display_data"
    }
   ],
   "source": [
    "plt.plot(price_levels)"
   ]
  },
  {
   "cell_type": "code",
   "execution_count": 53,
   "id": "6eb8e999",
   "metadata": {},
   "outputs": [
    {
     "data": {
      "text/plain": [
       "[<matplotlib.lines.Line2D at 0x1f502ecd5a0>]"
      ]
     },
     "execution_count": 53,
     "metadata": {},
     "output_type": "execute_result"
    },
    {
     "data": {
      "image/png": "[encoded data removed]",
      "text/plain": [
       "<Figure size 640x480 with 1 Axes>"
      ]
     },
     "metadata": {},
     "output_type": "display_data"
    }
   ],
   "source": [
    "plt.plot(lambdas_adj)"
   ]
  },
  {
   "cell_type": "code",
   "execution_count": 54,
   "id": "0398fbeb",
   "metadata": {},
   "outputs": [
    {
     "data": {
      "text/plain": [
       "<matplotlib.legend.Legend at 0x1fc11dd4e80>"
      ]
     },
     "execution_count": 54,
     "metadata": {},
     "output_type": "execute_result"
    },
    {
     "data": {
      "image/png": "[encoded data removed]",
      "text/plain": [
       "<Figure size 1500x400 with 2 Axes>"
      ]
     },
     "metadata": {},
     "output_type": "display_data"
    }
   ],
   "source": [
    "f = plt.figure(figsize=(15, 4))\n",
    "f.add_subplot(1, 3, 1)\n",
    "plt.plot(kappas, color='black', label='kappa')\n",
    "plt.xlabel('Kappa', fontsize=16)\n",
    "plt.ylabel('Value', fontsize=16)\n",
    "plt.grid(True)\n",
    "plt.legend()\n",
    "\n",
    "f.add_subplot(1, 3, 2)\n",
    "plt.plot(alphas, color='black', label='alpha')\n",
    "plt.xlabel('Alpha', fontsize=16)\n",
    "plt.ylabel('Value', fontsize=16)\n",
    "plt.grid(True)\n",
    "plt.legend()"
   ]
  },
  {
   "cell_type": "code",
   "execution_count": 55,
   "id": "2c419d97",
   "metadata": {},
   "outputs": [],
   "source": [
    "def optimal_spread_stoikov(gamma, kappa):\n",
    "    spread = (2/gamma)*math.log(1+ (gamma/kappa)) \n",
    "    return spread\n",
    "\n",
    "def gueant_optimal_bids_asks(gamma, kappa, Q, alpha, sigma):\n",
    "    coef = math.sqrt(((sigma**2 * gamma)/(2*kappa*alpha))*(1+(gamma/kappa))**(1+(kappa/gamma)))\n",
    "    \n",
    "    optimal_bid = (1/gamma)*math.log(1+(gamma/kappa)) + (1/2)*(2*Q +1)*coef\n",
    "    \n",
    "    optimal_ask = (1/gamma)*math.log(1+(gamma/kappa)) - (1/2)*(-2*Q - 1)*coef\n",
    "    \n",
    "    return optimal_bid + optimal_ask"
   ]
  },
  {
   "cell_type": "code",
   "execution_count": 56,
   "id": "d527bcb1",
   "metadata": {},
   "outputs": [],
   "source": [
    "for i in range(len(kappas)):\n",
    "    if kappas[i] > 0:\n",
    "        index_pos = i \n",
    "        break"
   ]
  },
  {
   "cell_type": "code",
   "execution_count": 57,
   "id": "2d222013",
   "metadata": {},
   "outputs": [
    {
     "data": {
      "text/plain": [
       "0"
      ]
     },
     "execution_count": 57,
     "metadata": {},
     "output_type": "execute_result"
    }
   ],
   "source": [
    "index_pos"
   ]
  },
  {
   "cell_type": "code",
   "execution_count": 58,
   "id": "bb3e227c",
   "metadata": {},
   "outputs": [
    {
     "data": {
      "text/plain": [
       "Series([], Name: timestamp, dtype: datetime64[ns])"
      ]
     },
     "execution_count": 58,
     "metadata": {},
     "output_type": "execute_result"
    }
   ],
   "source": [
    "first_x_greeks = df_trades[30+index_pos:30+len(kappas)]['timestamp']\n",
    "first_x_greeks.index = range(len(first_x_greeks))\n",
    "first_x_greeks"
   ]
  },
  {
   "cell_type": "code",
   "execution_count": 60,
   "id": "cf259cc5",
   "metadata": {},
   "outputs": [],
   "source": [
    "market_spread = []\n",
    "level_5_spread = []\n",
    "level_15_spread = []\n",
    "level_20_spread = []\n",
    "\n",
    "for i in range(len(first_x_greeks)):\n",
    "    df_example = df_orderbook[df_orderbook['timestamp'] <= first_x_greeks[i]]\n",
    "    idx = len(df_example) - 1\n",
    "    \n",
    "    spread_1 = df_example.loc[idx, 'asks[0].price'] - df_example.loc[idx, 'bids[0].price']\n",
    "    market_spread.append(spread_1)\n",
    "    \n",
    "    spread_2 = df_example.loc[idx, 'asks[5].price'] - df_example.loc[idx, 'bids[5].price']\n",
    "    level_5_spread.append(spread_2)\n",
    "    \n",
    "    spread_3 = df_example.loc[idx, 'asks[15].price'] - df_example.loc[idx, 'bids[15].price']\n",
    "    level_15_spread.append(spread_3)"
   ]
  },
  {
   "cell_type": "code",
   "execution_count": 61,
   "id": "e86fcce7",
   "metadata": {},
   "outputs": [],
   "source": [
    "spreads_stoikov_1, spreads_stoikov_2, spreads_stoikov_3 = [], [], []\n",
    "spreads_gueant_1, spreads_gueant_2, spreads_gueant_3 = [], [], []\n",
    "\n",
    "gamma_1 = 0.01\n",
    "gamma_2 = 0.1\n",
    "gamma_3 = 0.99\n",
    "\n",
    "for i in range(len(first_x_greeks)):\n",
    "    spread_stoikov_1 = optimal_spread_stoikov(gamma_1/market_spread[i], kappas[i+index_pos])\n",
    "    spread_gueant_1 = gueant_optimal_bids_asks(gamma_1/market_spread[i], kappas[i+index_pos], 0, alphas[i], 0.0002)\n",
    "    \n",
    "    spreads_stoikov_1.append(spread_stoikov_1)\n",
    "    spreads_gueant_1.append(spread_gueant_1)\n",
    "    \n",
    "    spread_stoikov_2 = optimal_spread_stoikov(gamma_2/market_spread[i], kappas[i+index_pos])\n",
    "    spread_gueant_2 = gueant_optimal_bids_asks(gamma_2/market_spread[i], kappas[i+index_pos], 0, alphas[i], 0.0002)\n",
    "    \n",
    "    spreads_stoikov_2.append(spread_stoikov_2)\n",
    "    spreads_gueant_2.append(spread_gueant_2)\n",
    "    \n",
    "    spread_stoikov_3 = optimal_spread_stoikov(gamma_3/market_spread[i], kappas[i+index_pos])\n",
    "    spread_gueant_3 = gueant_optimal_bids_asks(gamma_3/market_spread[i], kappas[i+index_pos], 0, alphas[i], 0.0002)\n",
    "    \n",
    "    spreads_stoikov_3.append(spread_stoikov_3)\n",
    "    spreads_gueant_3.append(spread_gueant_3)"
   ]
  },
  {
   "cell_type": "code",
   "execution_count": 62,
   "id": "fd8e6d62",
   "metadata": {},
   "outputs": [],
   "source": [
    "spreads_stoikov_4, spreads_stoikov_5, spreads_stoikov_6 = [], [], []\n",
    "\n",
    "for i in range(len(first_x_greeks) - 7):\n",
    "    spread_stoikov_4 = optimal_spread_stoikov(gamma_1, kappas[i+index_pos])\n",
    "    spreads_stoikov_4.append(spread_stoikov_4)\n",
    "    \n",
    "    spread_stoikov_5 = optimal_spread_stoikov(gamma_2, kappas[i+index_pos])\n",
    "    spreads_stoikov_5.append(spread_stoikov_5)\n",
    "    \n",
    "    spread_stoikov_6 = optimal_spread_stoikov(gamma_3, kappas[i+index_pos])\n",
    "    spreads_stoikov_6.append(spread_stoikov_6)"
   ]
  },
  {
   "cell_type": "code",
   "execution_count": 64,
   "id": "2a37fd1b",
   "metadata": {},
   "outputs": [
    {
     "data": {
      "image/png": "[encoded data removed]",
      "text/plain": [
       "<Figure size 1500x400 with 3 Axes>"
      ]
     },
     "metadata": {},
     "output_type": "display_data"
    }
   ],
   "source": [
    "f = plt.figure(figsize=(15, 4))\n",
    "f.add_subplot(1, 3, 1)\n",
    "plt.plot(np.arange(0,len(spreads_stoikov_1),1), spreads_stoikov_1, color='red', label= 'Stoikov Spread', alpha = 0.5  )\n",
    "#plt.plot(np.arange(0,len(spreads_stoikov_4),1), spreads_stoikov_4, color='blue', label= 'Stoikov Spread nd', alpha = 0.5  )\n",
    "plt.plot(np.arange(0,len(market_spread),1), market_spread, color ='black', label= 'Market Spread' )\n",
    "plt.plot(np.arange(0,len(level_5_spread),1), level_5_spread, color ='green', label= 'Level 5 Spread')\n",
    "plt.plot(np.arange(0,len(level_15_spread),1), level_15_spread, color ='blue', label= 'Level 15 Spread')\n",
    "plt.xlabel('Time, Gamma = {}'.format(gamma_1), fontsize=16)\n",
    "plt.ylabel('Optimal spread', fontsize=16)\n",
    "plt.grid(True)\n",
    "plt.legend()\n",
    "\n",
    "f.add_subplot(1, 3, 2)\n",
    "plt.plot(np.arange(0,len(spreads_stoikov_2),1), spreads_stoikov_2, color='red', label= 'Stoikov Spread', alpha = 0.5 )\n",
    "#plt.plot(np.arange(0,len(spreads_stoikov_5),1), spreads_stoikov_5, color='blue', label= 'Stoikov Spread nd', alpha = 0.5 )\n",
    "plt.plot(np.arange(0,len(market_spread),1), market_spread, color ='black', label= 'Market Spread' )\n",
    "plt.plot(np.arange(0,len(level_5_spread),1), level_5_spread, color ='green', label= 'Level 5 Spread')\n",
    "plt.plot(np.arange(0,len(level_15_spread),1), level_15_spread, color ='blue', label= 'Level 15 Spread')\n",
    "plt.xlabel('Time, Gamma = {}'.format(gamma_2), fontsize=16)\n",
    "plt.ylabel('Optimal spread', fontsize=16)\n",
    "plt.grid(True)\n",
    "plt.legend()\n",
    "\n",
    "f.add_subplot(1, 3, 3)\n",
    "plt.plot(np.arange(0,len(spreads_stoikov_3), 1), spreads_stoikov_3, color='red', label= 'Stoikov Spread', alpha = 0.5 )\n",
    "#plt.plot(np.arange(0,len(spreads_stoikov_6), 1), spreads_stoikov_6, color='blue', label= 'Stoikov Spread nd', alpha = 0.5 )\n",
    "plt.plot(np.arange(0,len(market_spread), 1), market_spread, color ='black', label= 'Market Spread')\n",
    "plt.plot(np.arange(0,len(level_5_spread),1), level_5_spread, color ='green', label= 'Level 5 Spread')\n",
    "plt.plot(np.arange(0,len(level_15_spread),1), level_15_spread, color ='blue', label= 'Level 15 Spread')\n",
    "plt.xlabel('Time, Gamma = {}'.format(gamma_3), fontsize=16)\n",
    "plt.ylabel('Optimal spread', fontsize=16)\n",
    "plt.grid(True)\n",
    "plt.legend()\n",
    "\n",
    "plt.savefig(r\"C:\\Users\\Temp_Student_001\\Desktop\\research\\0.projects\\Ariyan\\Dataset Coinbase\\DOT spread.png\")"
   ]
  },
  {
   "cell_type": "code",
   "execution_count": null,
   "id": "2b3e8f4a",
   "metadata": {},
   "outputs": [],
   "source": []
  },
  {
   "cell_type": "code",
   "execution_count": null,
   "id": "f665efa7",
   "metadata": {},
   "outputs": [],
   "source": []
  },
  {
   "cell_type": "code",
   "execution_count": null,
   "id": "e1a47188",
   "metadata": {},
   "outputs": [],
   "source": []
  },
  {
   "cell_type": "code",
   "execution_count": null,
   "id": "ff0bfb3e",
   "metadata": {},
   "outputs": [],
   "source": []
  },
  {
   "cell_type": "code",
   "execution_count": null,
   "id": "923e8007",
   "metadata": {},
   "outputs": [],
   "source": []
  },
  {
   "cell_type": "code",
   "execution_count": null,
   "id": "7181364e",
   "metadata": {},
   "outputs": [],
   "source": []
  },
  {
   "cell_type": "code",
   "execution_count": null,
   "id": "e32a700d",
   "metadata": {},
   "outputs": [],
   "source": []
  },
  {
   "cell_type": "code",
   "execution_count": null,
   "id": "97d87e30",
   "metadata": {},
   "outputs": [],
   "source": []
  },
  {
   "cell_type": "code",
   "execution_count": null,
   "id": "08d47b32",
   "metadata": {},
   "outputs": [],
   "source": []
  },
  {
   "cell_type": "code",
   "execution_count": null,
   "id": "a328f212",
   "metadata": {},
   "outputs": [],
   "source": []
  },
  {
   "cell_type": "code",
   "execution_count": null,
   "id": "5db6ab1a",
   "metadata": {},
   "outputs": [],
   "source": []
  },
  {
   "cell_type": "code",
   "execution_count": null,
   "id": "1389fbbd",
   "metadata": {},
   "outputs": [],
   "source": []
  },
  {
   "cell_type": "code",
   "execution_count": null,
   "id": "50f749a3",
   "metadata": {},
   "outputs": [],
   "source": []
  },
  {
   "cell_type": "code",
   "execution_count": null,
   "id": "b33db4eb",
   "metadata": {},
   "outputs": [],
   "source": []
  },
  {
   "cell_type": "code",
   "execution_count": null,
   "id": "4c9b772a",
   "metadata": {},
   "outputs": [],
   "source": []
  },
  {
   "cell_type": "code",
   "execution_count": null,
   "id": "f928f686",
   "metadata": {},
   "outputs": [],
   "source": []
  }
 ],
 "metadata": {
  "kernelspec": {
   "display_name": "Python 3",
   "language": "python",
   "name": "python3"
  },
  "language_info": {
   "codemirror_mode": {
    "name": "ipython",
    "version": 3
   },
   "file_extension": ".py",
   "mimetype": "text/x-python",
   "name": "python",
   "nbconvert_exporter": "python",
   "pygments_lexer": "ipython3",
   "version": "3.10.10"
  },
  "vscode": {
   "interpreter": {
    "hash": "5c7ed050add17bc684f4df7b28a9bee3251466fc1c4b64044d72169751b252bc"
   }
  }
 },
 "nbformat": 4,
 "nbformat_minor": 5
}
