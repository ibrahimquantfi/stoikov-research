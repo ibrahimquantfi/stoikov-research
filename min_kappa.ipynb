{
 "cells": [
  {
   "cell_type": "code",
   "execution_count": 3,
   "metadata": {},
   "outputs": [],
   "source": [
    "import time\n",
    "import csv\n",
    "import datetime\n",
    "import numpy as np\n",
    "import matplotlib.pyplot as plt\n",
    "import math\n",
    "from statistics import median\n",
    "import pandas as pd\n",
    "import glob\n",
    "import os\n",
    "import nest_asyncio\n",
    "# import gspread\n",
    "nest_asyncio.apply()\n",
    "from tardis_dev import datasets\n",
    "from scipy.optimize import curve_fit"
   ]
  },
  {
   "cell_type": "code",
   "execution_count": null,
   "metadata": {},
   "outputs": [],
   "source": [
    "\"\"\"\n",
    "{'ADA_USD': [947, 951], 'MATIC_USD': [138, 273], 'LINK_USD': [14, 50], 'DOGE_USD': [1472, 2596], 'SHIB_USD': [7575757, 28571428], 'XLM_USD': [786, 1770], 'MANA_USD': [75, 212], 'DOT_USD': [18, 28], 'SOL_USD': [8, 16], 'LTC_USD': [1, 3], 'USDT_USD': [11764, 8695]}\n",
    "\"\"\""
   ]
  },
  {
   "cell_type": "code",
   "execution_count": 4,
   "metadata": {},
   "outputs": [],
   "source": [
    "current_directory = 'C:\\\\Users\\\\Temp_Student_001\\\\Desktop\\\\research\\\\0.projects\\\\Jade\\\\Datasets'\n",
    "os.chdir(current_directory)"
   ]
  },
  {
   "cell_type": "code",
   "execution_count": 5,
   "metadata": {},
   "outputs": [],
   "source": [
    "exchange_name = [\"crypto-com\", \"coinbase\"]\n",
    "pairs_name = ['ADA_USD','MATIC_USD', \"LINK_USD\",\"DOGE_USD\",'SHIB_USD',\"XLM_USD\",\"MANA_USD\",\"DOT_USD\",\"SOL_USD\",\"LTC_USD\",\"USDT_USD\"]"
   ]
  },
  {
   "cell_type": "code",
   "execution_count": 6,
   "metadata": {},
   "outputs": [],
   "source": [
    "for i in pairs_name:\n",
    "    datasets.download(\n",
    " exchange= \"crypto-com\",\n",
    " data_types=[\n",
    "    \"quotes\"],\n",
    " from_date = '2023-02-06',\n",
    " to_date = '2023-02-10',\n",
    " symbols = [i],\n",
    " download_dir = 'C:\\\\Users\\\\Temp_Student_001\\\\Desktop\\\\research\\\\0.projects\\\\Jade\\\\Datasets',\n",
    " api_key= \"TD.CTo-GFKD9yJojKmk.0fsYIehJ-wDD1e-.FVe4814H5x7BkM7.uRoxlXUJQmcdRPz.HWyzjjLu4LiqBi4.sF6W\",\n",
    " )\n"
   ]
  },
  {
   "cell_type": "code",
   "execution_count": 7,
   "metadata": {},
   "outputs": [
    {
     "name": "stdout",
     "output_type": "stream",
     "text": [
      "['crypto-com_quotes_2023-02-06_ADA_USD.csv.gz', 'crypto-com_quotes_2023-02-06_DOGE_USD.csv.gz', 'crypto-com_quotes_2023-02-06_DOT_USD.csv.gz', 'crypto-com_quotes_2023-02-06_LINK_USD.csv.gz', 'crypto-com_quotes_2023-02-06_LTC_USD.csv.gz', 'crypto-com_quotes_2023-02-06_MANA_USD.csv.gz', 'crypto-com_quotes_2023-02-06_MATIC_USD.csv.gz', 'crypto-com_quotes_2023-02-06_SHIB_USD.csv.gz', 'crypto-com_quotes_2023-02-06_SOL_USD.csv.gz', 'crypto-com_quotes_2023-02-06_USDT_USD.csv.gz', 'crypto-com_quotes_2023-02-06_XLM_USD.csv.gz', 'crypto-com_quotes_2023-02-07_ADA_USD.csv.gz', 'crypto-com_quotes_2023-02-07_DOGE_USD.csv.gz', 'crypto-com_quotes_2023-02-07_DOT_USD.csv.gz', 'crypto-com_quotes_2023-02-07_LINK_USD.csv.gz', 'crypto-com_quotes_2023-02-07_LTC_USD.csv.gz', 'crypto-com_quotes_2023-02-07_MANA_USD.csv.gz', 'crypto-com_quotes_2023-02-07_MATIC_USD.csv.gz', 'crypto-com_quotes_2023-02-07_SHIB_USD.csv.gz', 'crypto-com_quotes_2023-02-07_SOL_USD.csv.gz', 'crypto-com_quotes_2023-02-07_USDT_USD.csv.gz', 'crypto-com_quotes_2023-02-07_XLM_USD.csv.gz', 'crypto-com_quotes_2023-02-08_ADA_USD.csv.gz', 'crypto-com_quotes_2023-02-08_DOGE_USD.csv.gz', 'crypto-com_quotes_2023-02-08_DOT_USD.csv.gz', 'crypto-com_quotes_2023-02-08_LINK_USD.csv.gz', 'crypto-com_quotes_2023-02-08_LTC_USD.csv.gz', 'crypto-com_quotes_2023-02-08_MANA_USD.csv.gz', 'crypto-com_quotes_2023-02-08_MATIC_USD.csv.gz', 'crypto-com_quotes_2023-02-08_SHIB_USD.csv.gz', 'crypto-com_quotes_2023-02-08_SOL_USD.csv.gz', 'crypto-com_quotes_2023-02-08_USDT_USD.csv.gz', 'crypto-com_quotes_2023-02-08_XLM_USD.csv.gz', 'crypto-com_quotes_2023-02-09_ADA_USD.csv.gz', 'crypto-com_quotes_2023-02-09_DOGE_USD.csv.gz', 'crypto-com_quotes_2023-02-09_DOT_USD.csv.gz', 'crypto-com_quotes_2023-02-09_LINK_USD.csv.gz', 'crypto-com_quotes_2023-02-09_LTC_USD.csv.gz', 'crypto-com_quotes_2023-02-09_MANA_USD.csv.gz', 'crypto-com_quotes_2023-02-09_MATIC_USD.csv.gz', 'crypto-com_quotes_2023-02-09_SHIB_USD.csv.gz', 'crypto-com_quotes_2023-02-09_SOL_USD.csv.gz', 'crypto-com_quotes_2023-02-09_USDT_USD.csv.gz', 'crypto-com_quotes_2023-02-09_XLM_USD.csv.gz']\n"
     ]
    }
   ],
   "source": [
    "path = '*.csv.gz'\n",
    "filenames = glob.glob(path, recursive=True)\n",
    "print(filenames)"
   ]
  },
  {
   "cell_type": "code",
   "execution_count": 8,
   "metadata": {},
   "outputs": [],
   "source": [
    "pairs_name_coinbase = ['ADA-USD','MATIC-USD', \"LINK-USD\",\"DOGE-USD\",'SHIB-USD',\"XLM-USD\",\"MANA-USD\",\"DOT-USD\",\"SOL-USD\",\"LTC-USD\",\"USDT-USD\"]\n",
    "for i in pairs_name_coinbase:\n",
    " datasets.download(\n",
    " exchange= \"coinbase\",\n",
    " data_types=[\n",
    "    \"quotes\"],\n",
    " from_date = '2023-02-06',\n",
    " to_date = '2023-02-10',\n",
    " symbols = [i],\n",
    " download_dir = 'C:\\\\Users\\\\Temp_Student_001\\\\Desktop\\\\research\\\\0.projects\\\\Jade\\\\Datasets\\\\coinbase',\n",
    " api_key= \"TD.CTo-GFKD9yJojKmk.0fsYIehJ-wDD1e-.FVe4814H5x7BkM7.uRoxlXUJQmcdRPz.HWyzjjLu4LiqBi4.sF6W\",\n",
    " )"
   ]
  },
  {
   "cell_type": "code",
   "execution_count": 9,
   "metadata": {},
   "outputs": [
    {
     "name": "stdout",
     "output_type": "stream",
     "text": [
      "['coinbase\\\\coinbase_quotes_2023-02-06_ADA-USD.csv.gz', 'coinbase\\\\coinbase_quotes_2023-02-06_DOGE-USD.csv.gz', 'coinbase\\\\coinbase_quotes_2023-02-06_DOT-USD.csv.gz', 'coinbase\\\\coinbase_quotes_2023-02-06_LINK-USD.csv.gz', 'coinbase\\\\coinbase_quotes_2023-02-06_LTC-USD.csv.gz', 'coinbase\\\\coinbase_quotes_2023-02-06_MANA-USD.csv.gz', 'coinbase\\\\coinbase_quotes_2023-02-06_MATIC-USD.csv.gz', 'coinbase\\\\coinbase_quotes_2023-02-06_SHIB-USD.csv.gz', 'coinbase\\\\coinbase_quotes_2023-02-06_SOL-USD.csv.gz', 'coinbase\\\\coinbase_quotes_2023-02-06_USDT-USD.csv.gz', 'coinbase\\\\coinbase_quotes_2023-02-06_XLM-USD.csv.gz', 'coinbase\\\\coinbase_quotes_2023-02-07_ADA-USD.csv.gz', 'coinbase\\\\coinbase_quotes_2023-02-07_DOGE-USD.csv.gz', 'coinbase\\\\coinbase_quotes_2023-02-07_DOT-USD.csv.gz', 'coinbase\\\\coinbase_quotes_2023-02-07_LINK-USD.csv.gz', 'coinbase\\\\coinbase_quotes_2023-02-07_LTC-USD.csv.gz', 'coinbase\\\\coinbase_quotes_2023-02-07_MANA-USD.csv.gz', 'coinbase\\\\coinbase_quotes_2023-02-07_MATIC-USD.csv.gz', 'coinbase\\\\coinbase_quotes_2023-02-07_SHIB-USD.csv.gz', 'coinbase\\\\coinbase_quotes_2023-02-07_SOL-USD.csv.gz', 'coinbase\\\\coinbase_quotes_2023-02-07_USDT-USD.csv.gz', 'coinbase\\\\coinbase_quotes_2023-02-07_XLM-USD.csv.gz', 'coinbase\\\\coinbase_quotes_2023-02-08_ADA-USD.csv.gz', 'coinbase\\\\coinbase_quotes_2023-02-08_DOGE-USD.csv.gz', 'coinbase\\\\coinbase_quotes_2023-02-08_DOT-USD.csv.gz', 'coinbase\\\\coinbase_quotes_2023-02-08_LINK-USD.csv.gz', 'coinbase\\\\coinbase_quotes_2023-02-08_LTC-USD.csv.gz', 'coinbase\\\\coinbase_quotes_2023-02-08_MANA-USD.csv.gz', 'coinbase\\\\coinbase_quotes_2023-02-08_MATIC-USD.csv.gz', 'coinbase\\\\coinbase_quotes_2023-02-08_SHIB-USD.csv.gz', 'coinbase\\\\coinbase_quotes_2023-02-08_SOL-USD.csv.gz', 'coinbase\\\\coinbase_quotes_2023-02-08_USDT-USD.csv.gz', 'coinbase\\\\coinbase_quotes_2023-02-08_XLM-USD.csv.gz', 'coinbase\\\\coinbase_quotes_2023-02-09_ADA-USD.csv.gz', 'coinbase\\\\coinbase_quotes_2023-02-09_DOGE-USD.csv.gz', 'coinbase\\\\coinbase_quotes_2023-02-09_DOT-USD.csv.gz', 'coinbase\\\\coinbase_quotes_2023-02-09_LINK-USD.csv.gz', 'coinbase\\\\coinbase_quotes_2023-02-09_LTC-USD.csv.gz', 'coinbase\\\\coinbase_quotes_2023-02-09_MANA-USD.csv.gz', 'coinbase\\\\coinbase_quotes_2023-02-09_MATIC-USD.csv.gz', 'coinbase\\\\coinbase_quotes_2023-02-09_SHIB-USD.csv.gz', 'coinbase\\\\coinbase_quotes_2023-02-09_SOL-USD.csv.gz', 'coinbase\\\\coinbase_quotes_2023-02-09_USDT-USD.csv.gz', 'coinbase\\\\coinbase_quotes_2023-02-09_XLM-USD.csv.gz']\n"
     ]
    }
   ],
   "source": [
    "path = 'coinbase\\\\*.csv.gz'\n",
    "filenames_coinbase = glob.glob(path, recursive=True)\n",
    "print(filenames_coinbase)"
   ]
  },
  {
   "cell_type": "code",
   "execution_count": 10,
   "metadata": {},
   "outputs": [],
   "source": [
    "df_quotes_coinbase = pd.concat((pd.read_csv(f) for f in filenames_coinbase), ignore_index=True)\n",
    "df_quotes_coinbase['timestamp'] = pd.to_datetime(df_quotes_coinbase.timestamp * 1000)\n",
    "df_quotes_coinbase['market_spread'] = df_quotes_coinbase['ask_price'] - df_quotes_coinbase['bid_price']"
   ]
  },
  {
   "cell_type": "code",
   "execution_count": 12,
   "metadata": {},
   "outputs": [],
   "source": [
    "kappa = {}\n",
    "for i in pairs_name:\n",
    "  kappa[i] = [0]\n"
   ]
  },
  {
   "cell_type": "code",
   "execution_count": 20,
   "metadata": {},
   "outputs": [
    {
     "data": {
      "text/html": [
       "<div>\n",
       "<style scoped>\n",
       "    .dataframe tbody tr th:only-of-type {\n",
       "        vertical-align: middle;\n",
       "    }\n",
       "\n",
       "    .dataframe tbody tr th {\n",
       "        vertical-align: top;\n",
       "    }\n",
       "\n",
       "    .dataframe thead th {\n",
       "        text-align: right;\n",
       "    }\n",
       "</style>\n",
       "<table border=\"1\" class=\"dataframe\">\n",
       "  <thead>\n",
       "    <tr style=\"text-align: right;\">\n",
       "      <th></th>\n",
       "      <th>exchange</th>\n",
       "      <th>symbol</th>\n",
       "      <th>timestamp</th>\n",
       "      <th>local_timestamp</th>\n",
       "      <th>ask_amount</th>\n",
       "      <th>ask_price</th>\n",
       "      <th>bid_price</th>\n",
       "      <th>bid_amount</th>\n",
       "      <th>market_spread</th>\n",
       "    </tr>\n",
       "  </thead>\n",
       "  <tbody>\n",
       "    <tr>\n",
       "      <th>0</th>\n",
       "      <td>coinbase</td>\n",
       "      <td>ADA-USD</td>\n",
       "      <td>2023-02-06 00:00:00.201807</td>\n",
       "      <td>1675641600201807</td>\n",
       "      <td>7773.56</td>\n",
       "      <td>0.392600</td>\n",
       "      <td>0.392500</td>\n",
       "      <td>23747.20</td>\n",
       "      <td>0.000100</td>\n",
       "    </tr>\n",
       "    <tr>\n",
       "      <th>1</th>\n",
       "      <td>coinbase</td>\n",
       "      <td>ADA-USD</td>\n",
       "      <td>2023-02-06 00:00:00.351823</td>\n",
       "      <td>1675641600395860</td>\n",
       "      <td>7773.56</td>\n",
       "      <td>0.392600</td>\n",
       "      <td>0.392500</td>\n",
       "      <td>16684.01</td>\n",
       "      <td>0.000100</td>\n",
       "    </tr>\n",
       "    <tr>\n",
       "      <th>2</th>\n",
       "      <td>coinbase</td>\n",
       "      <td>ADA-USD</td>\n",
       "      <td>2023-02-06 00:00:00.352041</td>\n",
       "      <td>1675641600396082</td>\n",
       "      <td>7773.56</td>\n",
       "      <td>0.392600</td>\n",
       "      <td>0.392500</td>\n",
       "      <td>14351.41</td>\n",
       "      <td>0.000100</td>\n",
       "    </tr>\n",
       "    <tr>\n",
       "      <th>3</th>\n",
       "      <td>coinbase</td>\n",
       "      <td>ADA-USD</td>\n",
       "      <td>2023-02-06 00:00:00.357061</td>\n",
       "      <td>1675641600402619</td>\n",
       "      <td>7773.56</td>\n",
       "      <td>0.392600</td>\n",
       "      <td>0.392500</td>\n",
       "      <td>11451.41</td>\n",
       "      <td>0.000100</td>\n",
       "    </tr>\n",
       "    <tr>\n",
       "      <th>4</th>\n",
       "      <td>coinbase</td>\n",
       "      <td>ADA-USD</td>\n",
       "      <td>2023-02-06 00:00:00.405906</td>\n",
       "      <td>1675641600450356</td>\n",
       "      <td>7773.56</td>\n",
       "      <td>0.392600</td>\n",
       "      <td>0.392500</td>\n",
       "      <td>8551.41</td>\n",
       "      <td>0.000100</td>\n",
       "    </tr>\n",
       "    <tr>\n",
       "      <th>...</th>\n",
       "      <td>...</td>\n",
       "      <td>...</td>\n",
       "      <td>...</td>\n",
       "      <td>...</td>\n",
       "      <td>...</td>\n",
       "      <td>...</td>\n",
       "      <td>...</td>\n",
       "      <td>...</td>\n",
       "      <td>...</td>\n",
       "    </tr>\n",
       "    <tr>\n",
       "      <th>45040125</th>\n",
       "      <td>coinbase</td>\n",
       "      <td>XLM-USD</td>\n",
       "      <td>2023-02-09 23:59:59.401075</td>\n",
       "      <td>1675987199443594</td>\n",
       "      <td>578.00</td>\n",
       "      <td>0.085701</td>\n",
       "      <td>0.085682</td>\n",
       "      <td>7498.00</td>\n",
       "      <td>0.000019</td>\n",
       "    </tr>\n",
       "    <tr>\n",
       "      <th>45040126</th>\n",
       "      <td>coinbase</td>\n",
       "      <td>XLM-USD</td>\n",
       "      <td>2023-02-09 23:59:59.405794</td>\n",
       "      <td>1675987199447795</td>\n",
       "      <td>578.00</td>\n",
       "      <td>0.085701</td>\n",
       "      <td>0.085682</td>\n",
       "      <td>4704.00</td>\n",
       "      <td>0.000019</td>\n",
       "    </tr>\n",
       "    <tr>\n",
       "      <th>45040127</th>\n",
       "      <td>coinbase</td>\n",
       "      <td>XLM-USD</td>\n",
       "      <td>2023-02-09 23:59:59.413259</td>\n",
       "      <td>1675987199455923</td>\n",
       "      <td>578.00</td>\n",
       "      <td>0.085701</td>\n",
       "      <td>0.085683</td>\n",
       "      <td>4541.00</td>\n",
       "      <td>0.000018</td>\n",
       "    </tr>\n",
       "    <tr>\n",
       "      <th>45040128</th>\n",
       "      <td>coinbase</td>\n",
       "      <td>XLM-USD</td>\n",
       "      <td>2023-02-09 23:59:59.415362</td>\n",
       "      <td>1675987199457144</td>\n",
       "      <td>4008.00</td>\n",
       "      <td>0.085703</td>\n",
       "      <td>0.085683</td>\n",
       "      <td>4541.00</td>\n",
       "      <td>0.000020</td>\n",
       "    </tr>\n",
       "    <tr>\n",
       "      <th>45040129</th>\n",
       "      <td>coinbase</td>\n",
       "      <td>XLM-USD</td>\n",
       "      <td>2023-02-09 23:59:59.643461</td>\n",
       "      <td>1675987199685218</td>\n",
       "      <td>4008.00</td>\n",
       "      <td>0.085703</td>\n",
       "      <td>0.085684</td>\n",
       "      <td>4704.00</td>\n",
       "      <td>0.000019</td>\n",
       "    </tr>\n",
       "  </tbody>\n",
       "</table>\n",
       "<p>45040130 rows × 9 columns</p>\n",
       "</div>"
      ],
      "text/plain": [
       "          exchange   symbol                  timestamp   local_timestamp  \\\n",
       "0         coinbase  ADA-USD 2023-02-06 00:00:00.201807  1675641600201807   \n",
       "1         coinbase  ADA-USD 2023-02-06 00:00:00.351823  1675641600395860   \n",
       "2         coinbase  ADA-USD 2023-02-06 00:00:00.352041  1675641600396082   \n",
       "3         coinbase  ADA-USD 2023-02-06 00:00:00.357061  1675641600402619   \n",
       "4         coinbase  ADA-USD 2023-02-06 00:00:00.405906  1675641600450356   \n",
       "...            ...      ...                        ...               ...   \n",
       "45040125  coinbase  XLM-USD 2023-02-09 23:59:59.401075  1675987199443594   \n",
       "45040126  coinbase  XLM-USD 2023-02-09 23:59:59.405794  1675987199447795   \n",
       "45040127  coinbase  XLM-USD 2023-02-09 23:59:59.413259  1675987199455923   \n",
       "45040128  coinbase  XLM-USD 2023-02-09 23:59:59.415362  1675987199457144   \n",
       "45040129  coinbase  XLM-USD 2023-02-09 23:59:59.643461  1675987199685218   \n",
       "\n",
       "          ask_amount  ask_price  bid_price  bid_amount  market_spread  \n",
       "0            7773.56   0.392600   0.392500    23747.20       0.000100  \n",
       "1            7773.56   0.392600   0.392500    16684.01       0.000100  \n",
       "2            7773.56   0.392600   0.392500    14351.41       0.000100  \n",
       "3            7773.56   0.392600   0.392500    11451.41       0.000100  \n",
       "4            7773.56   0.392600   0.392500     8551.41       0.000100  \n",
       "...              ...        ...        ...         ...            ...  \n",
       "45040125      578.00   0.085701   0.085682     7498.00       0.000019  \n",
       "45040126      578.00   0.085701   0.085682     4704.00       0.000019  \n",
       "45040127      578.00   0.085701   0.085683     4541.00       0.000018  \n",
       "45040128     4008.00   0.085703   0.085683     4541.00       0.000020  \n",
       "45040129     4008.00   0.085703   0.085684     4704.00       0.000019  \n",
       "\n",
       "[45040130 rows x 9 columns]"
      ]
     },
     "execution_count": 20,
     "metadata": {},
     "output_type": "execute_result"
    }
   ],
   "source": [
    "#df_quotes_coinbase"
   ]
  },
  {
   "cell_type": "code",
   "execution_count": 13,
   "metadata": {},
   "outputs": [],
   "source": [
    "kappa_coinbase = {}\n",
    "for i in pairs_name_coinbase:\n",
    "    kappa_coinbase[i] = [0]"
   ]
  },
  {
   "cell_type": "code",
   "execution_count": 25,
   "metadata": {},
   "outputs": [],
   "source": [
    "df_quotes_coinbase = pd.concat((pd.read_csv(f) for f in filenames_coinbase), ignore_index=True)\n",
    "df_quotes_coinbase['timestamp'] = pd.to_datetime(df_quotes_coinbase.timestamp * 1000)\n",
    "df_quotes_coinbase['market_spread'] = df_quotes_coinbase['ask_price'] - df_quotes_coinbase['bid_price']\n",
    "for i in pairs_name_coinbase:\n",
    "    subset = df_quotes_coinbase.loc[df_quotes_coinbase[\"symbol\"] == i]\n",
    "    max_market_spread = max(subset.market_spread)\n",
    "    min_kappa = 1/(math.e**(max_market_spread/2) - 1)\n",
    "    kappa_coinbase[i] = int(min_kappa)"
   ]
  },
  {
   "cell_type": "code",
   "execution_count": 26,
   "metadata": {},
   "outputs": [],
   "source": [
    "df_quotes = pd.concat((pd.read_csv(f) for f in filenames), ignore_index=True)\n",
    "df_quotes['timestamp'] = pd.to_datetime(df_quotes.timestamp * 1000)\n",
    "df_quotes['market_spread'] = df_quotes['ask_price'] - df_quotes['bid_price']\n",
    "for i in pairs_name:\n",
    "    subset = df_quotes.loc[df_quotes[\"symbol\"] == i]\n",
    "    max_market_spread = max(subset.market_spread)\n",
    "    min_kappa = 1/(math.e**(max_market_spread/2) - 1)\n",
    "    kappa[i] =int(min_kappa)\n"
   ]
  },
  {
   "cell_type": "code",
   "execution_count": 27,
   "metadata": {},
   "outputs": [
    {
     "data": {
      "text/plain": [
       "0.00017000000000000348"
      ]
     },
     "execution_count": 27,
     "metadata": {},
     "output_type": "execute_result"
    }
   ],
   "source": [
    "#max_market_spread"
   ]
  },
  {
   "cell_type": "code",
   "execution_count": 28,
   "metadata": {},
   "outputs": [
    {
     "name": "stdout",
     "output_type": "stream",
     "text": [
      "{'ADA_USD': [947, 951], 'MATIC_USD': [138, 273], 'LINK_USD': [14, 50], 'DOGE_USD': [1472, 2596], 'SHIB_USD': [7575757, 28571428], 'XLM_USD': [786, 1770], 'MANA_USD': [75, 212], 'DOT_USD': [18, 28], 'SOL_USD': [8, 16], 'LTC_USD': [1, 3], 'USDT_USD': [11764, 8695]}\n"
     ]
    }
   ],
   "source": [
    "k = {}\n",
    "for i in pairs_name:\n",
    "    k[i] = [kappa[i],list(kappa_coinbase.values())[list(kappa).index(i)]]\n",
    "print(k)"
   ]
  },
  {
   "cell_type": "code",
   "execution_count": 29,
   "metadata": {},
   "outputs": [
    {
     "name": "stdout",
     "output_type": "stream",
     "text": [
      "           crypto-com  coinbase\n",
      "ADA_USD           947       951\n",
      "MATIC_USD         138       273\n",
      "LINK_USD           14        50\n",
      "DOGE_USD         1472      2596\n",
      "SHIB_USD      7575757  28571428\n",
      "XLM_USD           786      1770\n",
      "MANA_USD           75       212\n",
      "DOT_USD            18        28\n",
      "SOL_USD             8        16\n",
      "LTC_USD             1         3\n",
      "USDT_USD        11764      8695\n"
     ]
    }
   ],
   "source": [
    "kappas = pd.DataFrame.from_dict(k, orient=\"index\",columns=[\"crypto-com\", \"coinbase\"])\n",
    "print(kappas)\n",
    "kappas.to_csv(\"min kappas.csv\")"
   ]
  },
  {
   "cell_type": "code",
   "execution_count": 30,
   "metadata": {},
   "outputs": [],
   "source": [
    "kappa_output = pd.DataFrame.from_dict(kappa, orient=\"index\",columns=[\"crypto-com\"])\n",
    "kappa_output.to_csv(\"kappa.csv\")"
   ]
  },
  {
   "cell_type": "code",
   "execution_count": 1,
   "metadata": {},
   "outputs": [
    {
     "name": "stdout",
     "output_type": "stream",
     "text": [
      "Unexpected exception formatting exception. Falling back to standard exception\n"
     ]
    },
    {
     "name": "stderr",
     "output_type": "stream",
     "text": [
      "Traceback (most recent call last):\n",
      "  File \"C:\\Users\\Temp_Student_001\\AppData\\Local\\Packages\\PythonSoftwareFoundation.Python.3.10_qbz5n2kfra8p0\\LocalCache\\local-packages\\Python310\\site-packages\\IPython\\core\\interactiveshell.py\", line 3433, in run_code\n",
      "    exec(code_obj, self.user_global_ns, self.user_ns)\n",
      "  File \"C:\\Users\\Temp_Student_001\\AppData\\Local\\Temp\\ipykernel_10144\\2567406267.py\", line 1, in <module>\n",
      "    kappa_output_2 = pd.DataFrame.from_dict(kappa_coinbase, orient=\"index\",columns=[\"coinbase\"])\n",
      "NameError: name 'pd' is not defined\n",
      "\n",
      "During handling of the above exception, another exception occurred:\n",
      "\n",
      "Traceback (most recent call last):\n",
      "  File \"C:\\Users\\Temp_Student_001\\AppData\\Local\\Packages\\PythonSoftwareFoundation.Python.3.10_qbz5n2kfra8p0\\LocalCache\\local-packages\\Python310\\site-packages\\IPython\\core\\interactiveshell.py\", line 2052, in showtraceback\n",
      "    stb = self.InteractiveTB.structured_traceback(\n",
      "  File \"C:\\Users\\Temp_Student_001\\AppData\\Local\\Packages\\PythonSoftwareFoundation.Python.3.10_qbz5n2kfra8p0\\LocalCache\\local-packages\\Python310\\site-packages\\IPython\\core\\ultratb.py\", line 1118, in structured_traceback\n",
      "    return FormattedTB.structured_traceback(\n",
      "  File \"C:\\Users\\Temp_Student_001\\AppData\\Local\\Packages\\PythonSoftwareFoundation.Python.3.10_qbz5n2kfra8p0\\LocalCache\\local-packages\\Python310\\site-packages\\IPython\\core\\ultratb.py\", line 1012, in structured_traceback\n",
      "    return VerboseTB.structured_traceback(\n",
      "  File \"C:\\Users\\Temp_Student_001\\AppData\\Local\\Packages\\PythonSoftwareFoundation.Python.3.10_qbz5n2kfra8p0\\LocalCache\\local-packages\\Python310\\site-packages\\IPython\\core\\ultratb.py\", line 865, in structured_traceback\n",
      "    formatted_exception = self.format_exception_as_a_whole(etype, evalue, etb, number_of_lines_of_context,\n",
      "  File \"C:\\Users\\Temp_Student_001\\AppData\\Local\\Packages\\PythonSoftwareFoundation.Python.3.10_qbz5n2kfra8p0\\LocalCache\\local-packages\\Python310\\site-packages\\IPython\\core\\ultratb.py\", line 818, in format_exception_as_a_whole\n",
      "    frames.append(self.format_record(r))\n",
      "  File \"C:\\Users\\Temp_Student_001\\AppData\\Local\\Packages\\PythonSoftwareFoundation.Python.3.10_qbz5n2kfra8p0\\LocalCache\\local-packages\\Python310\\site-packages\\IPython\\core\\ultratb.py\", line 736, in format_record\n",
      "    result += ''.join(_format_traceback_lines(frame_info.lines, Colors, self.has_colors, lvals))\n",
      "  File \"C:\\Users\\Temp_Student_001\\AppData\\Local\\Packages\\PythonSoftwareFoundation.Python.3.10_qbz5n2kfra8p0\\LocalCache\\local-packages\\Python310\\site-packages\\stack_data\\utils.py\", line 144, in cached_property_wrapper\n",
      "    value = obj.__dict__[self.func.__name__] = self.func(obj)\n",
      "  File \"C:\\Users\\Temp_Student_001\\AppData\\Local\\Packages\\PythonSoftwareFoundation.Python.3.10_qbz5n2kfra8p0\\LocalCache\\local-packages\\Python310\\site-packages\\stack_data\\core.py\", line 734, in lines\n",
      "    pieces = self.included_pieces\n",
      "  File \"C:\\Users\\Temp_Student_001\\AppData\\Local\\Packages\\PythonSoftwareFoundation.Python.3.10_qbz5n2kfra8p0\\LocalCache\\local-packages\\Python310\\site-packages\\stack_data\\utils.py\", line 144, in cached_property_wrapper\n",
      "    value = obj.__dict__[self.func.__name__] = self.func(obj)\n",
      "  File \"C:\\Users\\Temp_Student_001\\AppData\\Local\\Packages\\PythonSoftwareFoundation.Python.3.10_qbz5n2kfra8p0\\LocalCache\\local-packages\\Python310\\site-packages\\stack_data\\core.py\", line 677, in included_pieces\n",
      "    scope_pieces = self.scope_pieces\n",
      "  File \"C:\\Users\\Temp_Student_001\\AppData\\Local\\Packages\\PythonSoftwareFoundation.Python.3.10_qbz5n2kfra8p0\\LocalCache\\local-packages\\Python310\\site-packages\\stack_data\\utils.py\", line 144, in cached_property_wrapper\n",
      "    value = obj.__dict__[self.func.__name__] = self.func(obj)\n",
      "  File \"C:\\Users\\Temp_Student_001\\AppData\\Local\\Packages\\PythonSoftwareFoundation.Python.3.10_qbz5n2kfra8p0\\LocalCache\\local-packages\\Python310\\site-packages\\stack_data\\core.py\", line 614, in scope_pieces\n",
      "    scope_start, scope_end = self.source.line_range(self.scope)\n",
      "  File \"C:\\Users\\Temp_Student_001\\AppData\\Local\\Packages\\PythonSoftwareFoundation.Python.3.10_qbz5n2kfra8p0\\LocalCache\\local-packages\\Python310\\site-packages\\stack_data\\core.py\", line 178, in line_range\n",
      "    return line_range(self.asttext(), node)\n",
      "  File \"C:\\Users\\Temp_Student_001\\AppData\\Local\\Packages\\PythonSoftwareFoundation.Python.3.10_qbz5n2kfra8p0\\LocalCache\\local-packages\\Python310\\site-packages\\executing\\executing.py\", line 428, in asttext\n",
      "    self._asttext = ASTText(self.text, tree=self.tree, filename=self.filename)\n",
      "  File \"C:\\Users\\Temp_Student_001\\AppData\\Local\\Packages\\PythonSoftwareFoundation.Python.3.10_qbz5n2kfra8p0\\LocalCache\\local-packages\\Python310\\site-packages\\asttokens\\asttokens.py\", line 307, in __init__\n",
      "    super(ASTText, self).__init__(source_text, filename)\n",
      "  File \"C:\\Users\\Temp_Student_001\\AppData\\Local\\Packages\\PythonSoftwareFoundation.Python.3.10_qbz5n2kfra8p0\\LocalCache\\local-packages\\Python310\\site-packages\\asttokens\\asttokens.py\", line 44, in __init__\n",
      "    source_text = six.ensure_text(source_text)\n",
      "AttributeError: module 'six' has no attribute 'ensure_text'\n"
     ]
    }
   ],
   "source": [
    "kappa_output_2 = pd.DataFrame.from_dict(kappa_coinbase, orient=\"index\",columns=[\"coinbase\"])\n",
    "kappa_output_2.to_csv(\"kappa_coinbase.csv\")"
   ]
  },
  {
   "cell_type": "code",
   "execution_count": 43,
   "metadata": {},
   "outputs": [
    {
     "data": {
      "text/plain": [
       "['ADA_USD',\n",
       " 'MATIC_USD',\n",
       " 'LINK_USD',\n",
       " 'DOGE_USD',\n",
       " 'SHIB_USD',\n",
       " 'XLM_USD',\n",
       " 'MANA_USD',\n",
       " 'DOT_USD',\n",
       " 'SOL_USD',\n",
       " 'LTC_USD',\n",
       " 'USDT_USD']"
      ]
     },
     "execution_count": 43,
     "metadata": {},
     "output_type": "execute_result"
    }
   ],
   "source": [
    "def optimal_spread_stoikov(gamma, kappa):\n",
    "    spread = (2 / gamma) * math.log(1 + (gamma / kappa)) \n",
    "    return spread\n",
    "\n",
    "for i in range(len(list(kappas.index))):\n",
    "    "
   ]
  },
  {
   "cell_type": "code",
   "execution_count": 45,
   "metadata": {},
   "outputs": [
    {
     "data": {
      "text/html": [
       "<div>\n",
       "<style scoped>\n",
       "    .dataframe tbody tr th:only-of-type {\n",
       "        vertical-align: middle;\n",
       "    }\n",
       "\n",
       "    .dataframe tbody tr th {\n",
       "        vertical-align: top;\n",
       "    }\n",
       "\n",
       "    .dataframe thead th {\n",
       "        text-align: right;\n",
       "    }\n",
       "</style>\n",
       "<table border=\"1\" class=\"dataframe\">\n",
       "  <thead>\n",
       "    <tr style=\"text-align: right;\">\n",
       "      <th></th>\n",
       "      <th>exchange</th>\n",
       "      <th>symbol</th>\n",
       "      <th>timestamp</th>\n",
       "      <th>local_timestamp</th>\n",
       "      <th>ask_amount</th>\n",
       "      <th>ask_price</th>\n",
       "      <th>bid_price</th>\n",
       "      <th>bid_amount</th>\n",
       "      <th>market_spread</th>\n",
       "    </tr>\n",
       "  </thead>\n",
       "  <tbody>\n",
       "    <tr>\n",
       "      <th>0</th>\n",
       "      <td>crypto-com</td>\n",
       "      <td>ADA_USD</td>\n",
       "      <td>2023-02-06 00:00:01.100</td>\n",
       "      <td>1675641601107560</td>\n",
       "      <td>4.0</td>\n",
       "      <td>0.39259</td>\n",
       "      <td>0.39229</td>\n",
       "      <td>205.0</td>\n",
       "      <td>0.00030</td>\n",
       "    </tr>\n",
       "    <tr>\n",
       "      <th>1</th>\n",
       "      <td>crypto-com</td>\n",
       "      <td>ADA_USD</td>\n",
       "      <td>2023-02-06 00:00:07.236</td>\n",
       "      <td>1675641607238993</td>\n",
       "      <td>4.0</td>\n",
       "      <td>0.39259</td>\n",
       "      <td>0.39236</td>\n",
       "      <td>8019.0</td>\n",
       "      <td>0.00023</td>\n",
       "    </tr>\n",
       "    <tr>\n",
       "      <th>2</th>\n",
       "      <td>crypto-com</td>\n",
       "      <td>ADA_USD</td>\n",
       "      <td>2023-02-06 00:00:07.302</td>\n",
       "      <td>1675641607305221</td>\n",
       "      <td>4.0</td>\n",
       "      <td>0.39259</td>\n",
       "      <td>0.39229</td>\n",
       "      <td>205.0</td>\n",
       "      <td>0.00030</td>\n",
       "    </tr>\n",
       "    <tr>\n",
       "      <th>3</th>\n",
       "      <td>crypto-com</td>\n",
       "      <td>ADA_USD</td>\n",
       "      <td>2023-02-06 00:00:09.042</td>\n",
       "      <td>1675641609045112</td>\n",
       "      <td>4.0</td>\n",
       "      <td>0.39259</td>\n",
       "      <td>0.39231</td>\n",
       "      <td>205.0</td>\n",
       "      <td>0.00028</td>\n",
       "    </tr>\n",
       "    <tr>\n",
       "      <th>4</th>\n",
       "      <td>crypto-com</td>\n",
       "      <td>ADA_USD</td>\n",
       "      <td>2023-02-06 00:00:11.313</td>\n",
       "      <td>1675641611317059</td>\n",
       "      <td>4.0</td>\n",
       "      <td>0.39259</td>\n",
       "      <td>0.39236</td>\n",
       "      <td>8019.0</td>\n",
       "      <td>0.00023</td>\n",
       "    </tr>\n",
       "    <tr>\n",
       "      <th>...</th>\n",
       "      <td>...</td>\n",
       "      <td>...</td>\n",
       "      <td>...</td>\n",
       "      <td>...</td>\n",
       "      <td>...</td>\n",
       "      <td>...</td>\n",
       "      <td>...</td>\n",
       "      <td>...</td>\n",
       "      <td>...</td>\n",
       "    </tr>\n",
       "    <tr>\n",
       "      <th>3902305</th>\n",
       "      <td>crypto-com</td>\n",
       "      <td>ADA_USD</td>\n",
       "      <td>2023-02-09 23:59:58.210</td>\n",
       "      <td>1675987198213934</td>\n",
       "      <td>219.0</td>\n",
       "      <td>0.36237</td>\n",
       "      <td>0.36198</td>\n",
       "      <td>8019.0</td>\n",
       "      <td>0.00039</td>\n",
       "    </tr>\n",
       "    <tr>\n",
       "      <th>3902306</th>\n",
       "      <td>crypto-com</td>\n",
       "      <td>ADA_USD</td>\n",
       "      <td>2023-02-09 23:59:58.249</td>\n",
       "      <td>1675987198253158</td>\n",
       "      <td>219.0</td>\n",
       "      <td>0.36246</td>\n",
       "      <td>0.36198</td>\n",
       "      <td>8019.0</td>\n",
       "      <td>0.00048</td>\n",
       "    </tr>\n",
       "    <tr>\n",
       "      <th>3902307</th>\n",
       "      <td>crypto-com</td>\n",
       "      <td>ADA_USD</td>\n",
       "      <td>2023-02-09 23:59:58.338</td>\n",
       "      <td>1675987198341830</td>\n",
       "      <td>8019.0</td>\n",
       "      <td>0.36238</td>\n",
       "      <td>0.36198</td>\n",
       "      <td>8019.0</td>\n",
       "      <td>0.00040</td>\n",
       "    </tr>\n",
       "    <tr>\n",
       "      <th>3902308</th>\n",
       "      <td>crypto-com</td>\n",
       "      <td>ADA_USD</td>\n",
       "      <td>2023-02-09 23:59:58.359</td>\n",
       "      <td>1675987198363434</td>\n",
       "      <td>219.0</td>\n",
       "      <td>0.36237</td>\n",
       "      <td>0.36198</td>\n",
       "      <td>8019.0</td>\n",
       "      <td>0.00039</td>\n",
       "    </tr>\n",
       "    <tr>\n",
       "      <th>3902309</th>\n",
       "      <td>crypto-com</td>\n",
       "      <td>ADA_USD</td>\n",
       "      <td>2023-02-09 23:59:59.849</td>\n",
       "      <td>1675987199853248</td>\n",
       "      <td>8019.0</td>\n",
       "      <td>0.36238</td>\n",
       "      <td>0.36198</td>\n",
       "      <td>8019.0</td>\n",
       "      <td>0.00040</td>\n",
       "    </tr>\n",
       "  </tbody>\n",
       "</table>\n",
       "<p>399483 rows × 9 columns</p>\n",
       "</div>"
      ],
      "text/plain": [
       "           exchange   symbol               timestamp   local_timestamp  \\\n",
       "0        crypto-com  ADA_USD 2023-02-06 00:00:01.100  1675641601107560   \n",
       "1        crypto-com  ADA_USD 2023-02-06 00:00:07.236  1675641607238993   \n",
       "2        crypto-com  ADA_USD 2023-02-06 00:00:07.302  1675641607305221   \n",
       "3        crypto-com  ADA_USD 2023-02-06 00:00:09.042  1675641609045112   \n",
       "4        crypto-com  ADA_USD 2023-02-06 00:00:11.313  1675641611317059   \n",
       "...             ...      ...                     ...               ...   \n",
       "3902305  crypto-com  ADA_USD 2023-02-09 23:59:58.210  1675987198213934   \n",
       "3902306  crypto-com  ADA_USD 2023-02-09 23:59:58.249  1675987198253158   \n",
       "3902307  crypto-com  ADA_USD 2023-02-09 23:59:58.338  1675987198341830   \n",
       "3902308  crypto-com  ADA_USD 2023-02-09 23:59:58.359  1675987198363434   \n",
       "3902309  crypto-com  ADA_USD 2023-02-09 23:59:59.849  1675987199853248   \n",
       "\n",
       "         ask_amount  ask_price  bid_price  bid_amount  market_spread  \n",
       "0               4.0    0.39259    0.39229       205.0        0.00030  \n",
       "1               4.0    0.39259    0.39236      8019.0        0.00023  \n",
       "2               4.0    0.39259    0.39229       205.0        0.00030  \n",
       "3               4.0    0.39259    0.39231       205.0        0.00028  \n",
       "4               4.0    0.39259    0.39236      8019.0        0.00023  \n",
       "...             ...        ...        ...         ...            ...  \n",
       "3902305       219.0    0.36237    0.36198      8019.0        0.00039  \n",
       "3902306       219.0    0.36246    0.36198      8019.0        0.00048  \n",
       "3902307      8019.0    0.36238    0.36198      8019.0        0.00040  \n",
       "3902308       219.0    0.36237    0.36198      8019.0        0.00039  \n",
       "3902309      8019.0    0.36238    0.36198      8019.0        0.00040  \n",
       "\n",
       "[399483 rows x 9 columns]"
      ]
     },
     "execution_count": 45,
     "metadata": {},
     "output_type": "execute_result"
    }
   ],
   "source": [
    "df_quotes[df_quotes.symbol == 'ADA_USD']"
   ]
  }
 ],
 "metadata": {
  "kernelspec": {
   "display_name": "Python 3",
   "language": "python",
   "name": "python3"
  },
  "language_info": {
   "codemirror_mode": {
    "name": "ipython",
    "version": 3
   },
   "file_extension": ".py",
   "mimetype": "text/x-python",
   "name": "python",
   "nbconvert_exporter": "python",
   "pygments_lexer": "ipython3",
   "version": "3.10.10"
  },
  "orig_nbformat": 4,
  "vscode": {
   "interpreter": {
    "hash": "5c7ed050add17bc684f4df7b28a9bee3251466fc1c4b64044d72169751b252bc"
   }
  }
 },
 "nbformat": 4,
 "nbformat_minor": 2
}
