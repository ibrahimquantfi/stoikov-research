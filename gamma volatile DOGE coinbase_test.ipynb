{
 "cells": [
  {
   "cell_type": "code",
   "execution_count": 111,
   "id": "0473854b",
   "metadata": {},
   "outputs": [],
   "source": [
    "import time\n",
    "import datetime\n",
    "import numpy as np\n",
    "import matplotlib.pyplot as plt\n",
    "import math\n",
    "from statistics import median\n",
    "import pandas as pd\n",
    "import glob\n",
    "import os\n",
    "import nest_asyncio\n",
    "# import gspread\n",
    "nest_asyncio.apply()\n",
    "from tardis_dev import datasets\n",
    "from scipy.optimize import curve_fit\n",
    "import decimal"
   ]
  },
  {
   "cell_type": "code",
   "execution_count": 112,
   "id": "ad3a4017",
   "metadata": {},
   "outputs": [],
   "source": [
    "COIN_NAME = \"DOGE\"\n",
    "\n",
    "df_kappas = pd.read_csv(r\"C:\\Users\\Temp_Student_001\\Desktop\\research\\0.projects\\Jade\\datasets\\min kappas.csv\"); df_kappas.columns = [\"coin\", df_kappas.columns[1], df_kappas.columns[2]]\n",
    "mink_cryptocom , mink_coinbase = df_kappas[df_kappas.coin == COIN_NAME + \"_USD\"]['crypto-com'], df_kappas[df_kappas.coin == COIN_NAME + \"_USD\"]['coinbase']\n"
   ]
  },
  {
   "cell_type": "code",
   "execution_count": null,
   "id": "be40c3c0",
   "metadata": {},
   "outputs": [],
   "source": []
  },
  {
   "cell_type": "code",
   "execution_count": 113,
   "id": "baf50dc2",
   "metadata": {},
   "outputs": [],
   "source": [
    "def round_up(n, decimals=0):\n",
    "    multiplier = 10 ** decimals\n",
    "    return math.ceil(n * multiplier) / multiplier"
   ]
  },
  {
   "cell_type": "code",
   "execution_count": 114,
   "id": "38bcc480",
   "metadata": {},
   "outputs": [],
   "source": [
    "datasets.download(\n",
    "exchange=\"coinbase\",\n",
    "data_types=[\n",
    "    \"quotes\"],\n",
    "from_date = '2022-11-09',\n",
    "to_date = '2022-11-10',\n",
    "symbols = [COIN_NAME + \"-USD\"],\n",
    "download_dir = r\"C:\\Users\\Temp_Student_001\\Desktop\\research\\0.projects\\Ariyan\\Dataset Coinbase\\\\\" + COIN_NAME + \"USD\",\n",
    "api_key= \"TD.CTo-GFKD9yJojKmk.0fsYIehJ-wDD1e-.FVe4814H5x7BkM7.uRoxlXUJQmcdRPz.HWyzjjLu4LiqBi4.sF6W\",\n",
    ")\n",
    "\n",
    "datasets.download(\n",
    "exchange=\"coinbase\",\n",
    "data_types=[\n",
    "    \"trades\"],\n",
    "from_date = '2022-11-09',\n",
    "to_date = '2022-11-10',\n",
    "symbols = [COIN_NAME + \"-USD\"],\n",
    "download_dir = r\"C:\\Users\\Temp_Student_001\\Desktop\\research\\0.projects\\Ariyan\\Dataset Coinbase\\\\\" + COIN_NAME + \"USD\",\n",
    "api_key= \"TD.CTo-GFKD9yJojKmk.0fsYIehJ-wDD1e-.FVe4814H5x7BkM7.uRoxlXUJQmcdRPz.HWyzjjLu4LiqBi4.sF6W\",\n",
    ")"
   ]
  },
  {
   "cell_type": "code",
   "execution_count": 115,
   "id": "1eb99cb6",
   "metadata": {},
   "outputs": [],
   "source": [
    "datasets.download(\n",
    "exchange=\"coinbase\",\n",
    "data_types=[\n",
    "    \"book_snapshot_25\"],\n",
    "from_date = '2022-11-09',\n",
    "to_date = '2022-11-10',\n",
    "symbols = [COIN_NAME + \"-USD\"],\n",
    "download_dir = r\"C:\\Users\\Temp_Student_001\\Desktop\\research\\0.projects\\Ariyan\\Dataset Coinbase\\\\\" + COIN_NAME + \"USD\",\n",
    "api_key= \"TD.CTo-GFKD9yJojKmk.0fsYIehJ-wDD1e-.FVe4814H5x7BkM7.uRoxlXUJQmcdRPz.HWyzjjLu4LiqBi4.sF6W\",\n",
    ")"
   ]
  },
  {
   "cell_type": "code",
   "execution_count": 116,
   "id": "0030bfe4",
   "metadata": {},
   "outputs": [],
   "source": [
    "quote_database = glob.glob(os.path.join(r\"C:\\Users\\Temp_Student_001\\Desktop\\research\\0.projects\\Ariyan\\Dataset Coinbase\\\\\" + COIN_NAME + \"USD\", \"coinbase_quotes*\" + \"2022-11-09_\" + COIN_NAME + \"-USD.csv.gz\"))\n",
    "df_quotes = pd.concat((pd.read_csv(f) for f in quote_database), ignore_index=True)\n",
    "df_quotes['timestamp'] = pd.to_datetime(df_quotes.timestamp * 1000)\n",
    "df_quotes['midprice'] = (df_quotes['ask_price'] + df_quotes['bid_price'])/2\n",
    "\n",
    "orderbook_database =  glob.glob(os.path.join(r\"C:\\Users\\Temp_Student_001\\Desktop\\research\\0.projects\\Ariyan\\Dataset Coinbase\\\\\" + COIN_NAME + \"USD\", \"coinbase_book_snapshot_25*\" + \"2022-11-09_\" + COIN_NAME + \"-USD.csv.gz\"))\n",
    "df_orderbook = pd.concat((pd.read_csv(f) for f in orderbook_database), ignore_index=True)\n",
    "df_orderbook['timestamp'] = pd.to_datetime(df_orderbook.timestamp * 1000)\n",
    "\n",
    "trade_database = glob.glob(os.path.join(r\"C:\\Users\\Temp_Student_001\\Desktop\\research\\0.projects\\Ariyan\\Dataset Coinbase\\\\\" + COIN_NAME + \"USD\", \"coinbase_trades*\" + \"2022-11-09_\" + COIN_NAME + \"-USD.csv.gz\"))\n",
    "df_trades = pd.concat((pd.read_csv(f) for f in trade_database), ignore_index=True)\n",
    "df_trades['timestamp'] = pd.to_datetime(df_trades.timestamp * 1000)\n",
    "df_trades = df_trades[df_trades['timestamp'] >= df_quotes.loc[0, 'timestamp']]\n",
    "df_trades.index = range(len(df_trades))"
   ]
  },
  {
   "cell_type": "code",
   "execution_count": 117,
   "id": "2a117b5a",
   "metadata": {},
   "outputs": [
    {
     "data": {
      "text/html": [
       "<div>\n",
       "<style scoped>\n",
       "    .dataframe tbody tr th:only-of-type {\n",
       "        vertical-align: middle;\n",
       "    }\n",
       "\n",
       "    .dataframe tbody tr th {\n",
       "        vertical-align: top;\n",
       "    }\n",
       "\n",
       "    .dataframe thead th {\n",
       "        text-align: right;\n",
       "    }\n",
       "</style>\n",
       "<table border=\"1\" class=\"dataframe\">\n",
       "  <thead>\n",
       "    <tr style=\"text-align: right;\">\n",
       "      <th></th>\n",
       "      <th>exchange</th>\n",
       "      <th>symbol</th>\n",
       "      <th>timestamp</th>\n",
       "      <th>local_timestamp</th>\n",
       "      <th>ask_amount</th>\n",
       "      <th>ask_price</th>\n",
       "      <th>bid_price</th>\n",
       "      <th>bid_amount</th>\n",
       "      <th>midprice</th>\n",
       "      <th>spread</th>\n",
       "    </tr>\n",
       "  </thead>\n",
       "  <tbody>\n",
       "    <tr>\n",
       "      <th>0</th>\n",
       "      <td>coinbase</td>\n",
       "      <td>DOGE-USD</td>\n",
       "      <td>2022-11-09 00:00:00.235467</td>\n",
       "      <td>1667952000235467</td>\n",
       "      <td>21735.5</td>\n",
       "      <td>0.08833</td>\n",
       "      <td>0.08826</td>\n",
       "      <td>5920.1</td>\n",
       "      <td>0.088295</td>\n",
       "      <td>0.00007</td>\n",
       "    </tr>\n",
       "    <tr>\n",
       "      <th>1</th>\n",
       "      <td>coinbase</td>\n",
       "      <td>DOGE-USD</td>\n",
       "      <td>2022-11-09 00:00:00.164074</td>\n",
       "      <td>1667952000235611</td>\n",
       "      <td>31077.5</td>\n",
       "      <td>0.08833</td>\n",
       "      <td>0.08826</td>\n",
       "      <td>5920.1</td>\n",
       "      <td>0.088295</td>\n",
       "      <td>0.00007</td>\n",
       "    </tr>\n",
       "    <tr>\n",
       "      <th>2</th>\n",
       "      <td>coinbase</td>\n",
       "      <td>DOGE-USD</td>\n",
       "      <td>2022-11-09 00:00:00.202119</td>\n",
       "      <td>1667952000250465</td>\n",
       "      <td>31077.5</td>\n",
       "      <td>0.08833</td>\n",
       "      <td>0.08827</td>\n",
       "      <td>5339.3</td>\n",
       "      <td>0.088300</td>\n",
       "      <td>0.00006</td>\n",
       "    </tr>\n",
       "    <tr>\n",
       "      <th>3</th>\n",
       "      <td>coinbase</td>\n",
       "      <td>DOGE-USD</td>\n",
       "      <td>2022-11-09 00:00:00.202408</td>\n",
       "      <td>1667952000250484</td>\n",
       "      <td>31077.5</td>\n",
       "      <td>0.08833</td>\n",
       "      <td>0.08827</td>\n",
       "      <td>8549.3</td>\n",
       "      <td>0.088300</td>\n",
       "      <td>0.00006</td>\n",
       "    </tr>\n",
       "    <tr>\n",
       "      <th>4</th>\n",
       "      <td>coinbase</td>\n",
       "      <td>DOGE-USD</td>\n",
       "      <td>2022-11-09 00:00:00.202850</td>\n",
       "      <td>1667952000250510</td>\n",
       "      <td>31077.5</td>\n",
       "      <td>0.08833</td>\n",
       "      <td>0.08827</td>\n",
       "      <td>27321.0</td>\n",
       "      <td>0.088300</td>\n",
       "      <td>0.00006</td>\n",
       "    </tr>\n",
       "    <tr>\n",
       "      <th>...</th>\n",
       "      <td>...</td>\n",
       "      <td>...</td>\n",
       "      <td>...</td>\n",
       "      <td>...</td>\n",
       "      <td>...</td>\n",
       "      <td>...</td>\n",
       "      <td>...</td>\n",
       "      <td>...</td>\n",
       "      <td>...</td>\n",
       "      <td>...</td>\n",
       "    </tr>\n",
       "    <tr>\n",
       "      <th>3660090</th>\n",
       "      <td>coinbase</td>\n",
       "      <td>DOGE-USD</td>\n",
       "      <td>2022-11-09 23:59:59.295608</td>\n",
       "      <td>1668038399345851</td>\n",
       "      <td>79490.6</td>\n",
       "      <td>0.07448</td>\n",
       "      <td>0.07435</td>\n",
       "      <td>937.1</td>\n",
       "      <td>0.074415</td>\n",
       "      <td>0.00013</td>\n",
       "    </tr>\n",
       "    <tr>\n",
       "      <th>3660091</th>\n",
       "      <td>coinbase</td>\n",
       "      <td>DOGE-USD</td>\n",
       "      <td>2022-11-09 23:59:59.307825</td>\n",
       "      <td>1668038399358643</td>\n",
       "      <td>86729.8</td>\n",
       "      <td>0.07448</td>\n",
       "      <td>0.07435</td>\n",
       "      <td>937.1</td>\n",
       "      <td>0.074415</td>\n",
       "      <td>0.00013</td>\n",
       "    </tr>\n",
       "    <tr>\n",
       "      <th>3660092</th>\n",
       "      <td>coinbase</td>\n",
       "      <td>DOGE-USD</td>\n",
       "      <td>2022-11-09 23:59:59.332335</td>\n",
       "      <td>1668038399381494</td>\n",
       "      <td>11093.0</td>\n",
       "      <td>0.07447</td>\n",
       "      <td>0.07435</td>\n",
       "      <td>937.1</td>\n",
       "      <td>0.074410</td>\n",
       "      <td>0.00012</td>\n",
       "    </tr>\n",
       "    <tr>\n",
       "      <th>3660093</th>\n",
       "      <td>coinbase</td>\n",
       "      <td>DOGE-USD</td>\n",
       "      <td>2022-11-09 23:59:59.392230</td>\n",
       "      <td>1668038399442358</td>\n",
       "      <td>29366.3</td>\n",
       "      <td>0.07446</td>\n",
       "      <td>0.07435</td>\n",
       "      <td>937.1</td>\n",
       "      <td>0.074405</td>\n",
       "      <td>0.00011</td>\n",
       "    </tr>\n",
       "    <tr>\n",
       "      <th>3660094</th>\n",
       "      <td>coinbase</td>\n",
       "      <td>DOGE-USD</td>\n",
       "      <td>2022-11-09 23:59:59.845067</td>\n",
       "      <td>1668038399895610</td>\n",
       "      <td>10000.0</td>\n",
       "      <td>0.07445</td>\n",
       "      <td>0.07435</td>\n",
       "      <td>937.1</td>\n",
       "      <td>0.074400</td>\n",
       "      <td>0.00010</td>\n",
       "    </tr>\n",
       "  </tbody>\n",
       "</table>\n",
       "<p>3660095 rows × 10 columns</p>\n",
       "</div>"
      ],
      "text/plain": [
       "         exchange    symbol                  timestamp   local_timestamp  \\\n",
       "0        coinbase  DOGE-USD 2022-11-09 00:00:00.235467  1667952000235467   \n",
       "1        coinbase  DOGE-USD 2022-11-09 00:00:00.164074  1667952000235611   \n",
       "2        coinbase  DOGE-USD 2022-11-09 00:00:00.202119  1667952000250465   \n",
       "3        coinbase  DOGE-USD 2022-11-09 00:00:00.202408  1667952000250484   \n",
       "4        coinbase  DOGE-USD 2022-11-09 00:00:00.202850  1667952000250510   \n",
       "...           ...       ...                        ...               ...   \n",
       "3660090  coinbase  DOGE-USD 2022-11-09 23:59:59.295608  1668038399345851   \n",
       "3660091  coinbase  DOGE-USD 2022-11-09 23:59:59.307825  1668038399358643   \n",
       "3660092  coinbase  DOGE-USD 2022-11-09 23:59:59.332335  1668038399381494   \n",
       "3660093  coinbase  DOGE-USD 2022-11-09 23:59:59.392230  1668038399442358   \n",
       "3660094  coinbase  DOGE-USD 2022-11-09 23:59:59.845067  1668038399895610   \n",
       "\n",
       "         ask_amount  ask_price  bid_price  bid_amount  midprice   spread  \n",
       "0           21735.5    0.08833    0.08826      5920.1  0.088295  0.00007  \n",
       "1           31077.5    0.08833    0.08826      5920.1  0.088295  0.00007  \n",
       "2           31077.5    0.08833    0.08827      5339.3  0.088300  0.00006  \n",
       "3           31077.5    0.08833    0.08827      8549.3  0.088300  0.00006  \n",
       "4           31077.5    0.08833    0.08827     27321.0  0.088300  0.00006  \n",
       "...             ...        ...        ...         ...       ...      ...  \n",
       "3660090     79490.6    0.07448    0.07435       937.1  0.074415  0.00013  \n",
       "3660091     86729.8    0.07448    0.07435       937.1  0.074415  0.00013  \n",
       "3660092     11093.0    0.07447    0.07435       937.1  0.074410  0.00012  \n",
       "3660093     29366.3    0.07446    0.07435       937.1  0.074405  0.00011  \n",
       "3660094     10000.0    0.07445    0.07435       937.1  0.074400  0.00010  \n",
       "\n",
       "[3660095 rows x 10 columns]"
      ]
     },
     "execution_count": 117,
     "metadata": {},
     "output_type": "execute_result"
    }
   ],
   "source": [
    "df_quotes['spread'] = df_quotes.ask_price - df_quotes.bid_price\n",
    "df_quotes"
   ]
  },
  {
   "cell_type": "code",
   "execution_count": 118,
   "id": "ee5e8555",
   "metadata": {},
   "outputs": [],
   "source": [
    "df_trades = df_trades[3800:5000]\n",
    "df_trades.index = range(len(df_trades))"
   ]
  },
  {
   "cell_type": "code",
   "execution_count": 119,
   "id": "103b9df1",
   "metadata": {},
   "outputs": [
    {
     "data": {
      "text/html": [
       "<div>\n",
       "<style scoped>\n",
       "    .dataframe tbody tr th:only-of-type {\n",
       "        vertical-align: middle;\n",
       "    }\n",
       "\n",
       "    .dataframe tbody tr th {\n",
       "        vertical-align: top;\n",
       "    }\n",
       "\n",
       "    .dataframe thead th {\n",
       "        text-align: right;\n",
       "    }\n",
       "</style>\n",
       "<table border=\"1\" class=\"dataframe\">\n",
       "  <thead>\n",
       "    <tr style=\"text-align: right;\">\n",
       "      <th></th>\n",
       "      <th>exchange</th>\n",
       "      <th>symbol</th>\n",
       "      <th>timestamp</th>\n",
       "      <th>local_timestamp</th>\n",
       "      <th>id</th>\n",
       "      <th>side</th>\n",
       "      <th>price</th>\n",
       "      <th>amount</th>\n",
       "    </tr>\n",
       "  </thead>\n",
       "  <tbody>\n",
       "    <tr>\n",
       "      <th>0</th>\n",
       "      <td>coinbase</td>\n",
       "      <td>DOGE-USD</td>\n",
       "      <td>2022-11-09 00:23:12.132159</td>\n",
       "      <td>1667953392193688</td>\n",
       "      <td>44318048</td>\n",
       "      <td>buy</td>\n",
       "      <td>0.08924</td>\n",
       "      <td>3456.1</td>\n",
       "    </tr>\n",
       "    <tr>\n",
       "      <th>1</th>\n",
       "      <td>coinbase</td>\n",
       "      <td>DOGE-USD</td>\n",
       "      <td>2022-11-09 00:23:12.132159</td>\n",
       "      <td>1667953392193701</td>\n",
       "      <td>44318049</td>\n",
       "      <td>buy</td>\n",
       "      <td>0.08927</td>\n",
       "      <td>1766.2</td>\n",
       "    </tr>\n",
       "    <tr>\n",
       "      <th>2</th>\n",
       "      <td>coinbase</td>\n",
       "      <td>DOGE-USD</td>\n",
       "      <td>2022-11-09 00:23:12.132159</td>\n",
       "      <td>1667953392193721</td>\n",
       "      <td>44318050</td>\n",
       "      <td>buy</td>\n",
       "      <td>0.08928</td>\n",
       "      <td>5369.5</td>\n",
       "    </tr>\n",
       "    <tr>\n",
       "      <th>3</th>\n",
       "      <td>coinbase</td>\n",
       "      <td>DOGE-USD</td>\n",
       "      <td>2022-11-09 00:23:12.132159</td>\n",
       "      <td>1667953392193743</td>\n",
       "      <td>44318051</td>\n",
       "      <td>buy</td>\n",
       "      <td>0.08928</td>\n",
       "      <td>16101.4</td>\n",
       "    </tr>\n",
       "    <tr>\n",
       "      <th>4</th>\n",
       "      <td>coinbase</td>\n",
       "      <td>DOGE-USD</td>\n",
       "      <td>2022-11-09 00:23:12.132159</td>\n",
       "      <td>1667953392193761</td>\n",
       "      <td>44318052</td>\n",
       "      <td>buy</td>\n",
       "      <td>0.08929</td>\n",
       "      <td>5369.7</td>\n",
       "    </tr>\n",
       "    <tr>\n",
       "      <th>...</th>\n",
       "      <td>...</td>\n",
       "      <td>...</td>\n",
       "      <td>...</td>\n",
       "      <td>...</td>\n",
       "      <td>...</td>\n",
       "      <td>...</td>\n",
       "      <td>...</td>\n",
       "      <td>...</td>\n",
       "    </tr>\n",
       "    <tr>\n",
       "      <th>1195</th>\n",
       "      <td>coinbase</td>\n",
       "      <td>DOGE-USD</td>\n",
       "      <td>2022-11-09 00:33:20.367930</td>\n",
       "      <td>1667954000410959</td>\n",
       "      <td>44319243</td>\n",
       "      <td>sell</td>\n",
       "      <td>0.08994</td>\n",
       "      <td>5050.4</td>\n",
       "    </tr>\n",
       "    <tr>\n",
       "      <th>1196</th>\n",
       "      <td>coinbase</td>\n",
       "      <td>DOGE-USD</td>\n",
       "      <td>2022-11-09 00:33:20.380748</td>\n",
       "      <td>1667954000425098</td>\n",
       "      <td>44319244</td>\n",
       "      <td>sell</td>\n",
       "      <td>0.08994</td>\n",
       "      <td>2846.2</td>\n",
       "    </tr>\n",
       "    <tr>\n",
       "      <th>1197</th>\n",
       "      <td>coinbase</td>\n",
       "      <td>DOGE-USD</td>\n",
       "      <td>2022-11-09 00:33:20.440940</td>\n",
       "      <td>1667954000487531</td>\n",
       "      <td>44319245</td>\n",
       "      <td>sell</td>\n",
       "      <td>0.08992</td>\n",
       "      <td>4369.2</td>\n",
       "    </tr>\n",
       "    <tr>\n",
       "      <th>1198</th>\n",
       "      <td>coinbase</td>\n",
       "      <td>DOGE-USD</td>\n",
       "      <td>2022-11-09 00:33:20.440940</td>\n",
       "      <td>1667954000487542</td>\n",
       "      <td>44319246</td>\n",
       "      <td>sell</td>\n",
       "      <td>0.08990</td>\n",
       "      <td>5449.0</td>\n",
       "    </tr>\n",
       "    <tr>\n",
       "      <th>1199</th>\n",
       "      <td>coinbase</td>\n",
       "      <td>DOGE-USD</td>\n",
       "      <td>2022-11-09 00:33:20.440940</td>\n",
       "      <td>1667954000487551</td>\n",
       "      <td>44319247</td>\n",
       "      <td>sell</td>\n",
       "      <td>0.08990</td>\n",
       "      <td>4956.5</td>\n",
       "    </tr>\n",
       "  </tbody>\n",
       "</table>\n",
       "<p>1200 rows × 8 columns</p>\n",
       "</div>"
      ],
      "text/plain": [
       "      exchange    symbol                  timestamp   local_timestamp  \\\n",
       "0     coinbase  DOGE-USD 2022-11-09 00:23:12.132159  1667953392193688   \n",
       "1     coinbase  DOGE-USD 2022-11-09 00:23:12.132159  1667953392193701   \n",
       "2     coinbase  DOGE-USD 2022-11-09 00:23:12.132159  1667953392193721   \n",
       "3     coinbase  DOGE-USD 2022-11-09 00:23:12.132159  1667953392193743   \n",
       "4     coinbase  DOGE-USD 2022-11-09 00:23:12.132159  1667953392193761   \n",
       "...        ...       ...                        ...               ...   \n",
       "1195  coinbase  DOGE-USD 2022-11-09 00:33:20.367930  1667954000410959   \n",
       "1196  coinbase  DOGE-USD 2022-11-09 00:33:20.380748  1667954000425098   \n",
       "1197  coinbase  DOGE-USD 2022-11-09 00:33:20.440940  1667954000487531   \n",
       "1198  coinbase  DOGE-USD 2022-11-09 00:33:20.440940  1667954000487542   \n",
       "1199  coinbase  DOGE-USD 2022-11-09 00:33:20.440940  1667954000487551   \n",
       "\n",
       "            id  side    price   amount  \n",
       "0     44318048   buy  0.08924   3456.1  \n",
       "1     44318049   buy  0.08927   1766.2  \n",
       "2     44318050   buy  0.08928   5369.5  \n",
       "3     44318051   buy  0.08928  16101.4  \n",
       "4     44318052   buy  0.08929   5369.7  \n",
       "...        ...   ...      ...      ...  \n",
       "1195  44319243  sell  0.08994   5050.4  \n",
       "1196  44319244  sell  0.08994   2846.2  \n",
       "1197  44319245  sell  0.08992   4369.2  \n",
       "1198  44319246  sell  0.08990   5449.0  \n",
       "1199  44319247  sell  0.08990   4956.5  \n",
       "\n",
       "[1200 rows x 8 columns]"
      ]
     },
     "execution_count": 119,
     "metadata": {},
     "output_type": "execute_result"
    }
   ],
   "source": [
    "df_trades\n"
   ]
  },
  {
   "cell_type": "code",
   "execution_count": 120,
   "id": "45849023",
   "metadata": {},
   "outputs": [
    {
     "name": "stdout",
     "output_type": "stream",
     "text": [
      "Max spread: 0.00134999999999999,\n",
      "gamma: 1,\n",
      "max_kappa: 199999.4999998984.\n",
      "Min spread: 9.999999999996123e-06,\n",
      "min_kappa: 1480.9815377313937.\n"
     ]
    }
   ],
   "source": [
    "max_spread, min_spread = max(df_quotes.spread), min(df_quotes.spread)\n",
    "gamma = 1\n",
    "max_kappa, min_kappa = gamma / (np.exp(gamma * min_spread * 0.5) - 1), gamma / (np.exp(gamma * max_spread * 0.5) - 1)\n",
    "print('Max spread: {},\\ngamma: {},\\nmax_kappa: {}.'.format(max_spread, gamma, max_kappa))\n",
    "print('Min spread: {},\\nmin_kappa: {}.'.format(min_spread, min_kappa))"
   ]
  },
  {
   "cell_type": "code",
   "execution_count": null,
   "id": "3f0b229e",
   "metadata": {},
   "outputs": [],
   "source": []
  },
  {
   "cell_type": "code",
   "execution_count": 121,
   "id": "6ef167c3",
   "metadata": {},
   "outputs": [],
   "source": [
    "def curve_fit_manual(x, y, alpha, kappa):\n",
    "    def residuals(params):\n",
    "        a = params[0]\n",
    "        b = params[1]\n",
    "        \n",
    "        sum = 0\n",
    "        for i in range(len(x)):\n",
    "            sum += (y[i] - (a * np.exp(-b * x[i]))) ** 2\n",
    "        return sum\n",
    "    \n",
    "    learning_rate = 0.01\n",
    "    precision = 0.001\n",
    "    \n",
    "    a = alpha\n",
    "    b = kappa\n",
    "    da = 1\n",
    "    db = 1\n",
    "    \n",
    "    time_start = datetime.datetime.now()\n",
    "    \n",
    "    while abs(da) > precision or abs(db) > precision:\n",
    "        da = (residuals([a + precision, b]) - residuals([a, b])) / precision\n",
    "        db = (residuals([a, b + precision]) - residuals([a, b])) / precision\n",
    "        \n",
    "        a -= learning_rate * da\n",
    "        b -= learning_rate * db\n",
    "        \n",
    "        now = datetime.datetime.now()\n",
    "        \n",
    "        if (now - time_start).seconds > 1: \n",
    "            a = 0 \n",
    "            b = 0\n",
    "            \n",
    "            break\n",
    "            \n",
    "        \n",
    "    if a < 0: \n",
    "        a = 0 \n",
    "    if b < 0: \n",
    "        b = 0\n",
    "    \n",
    "    return a, b"
   ]
  },
  {
   "cell_type": "code",
   "execution_count": 139,
   "id": "340a3485",
   "metadata": {},
   "outputs": [
    {
     "data": {
      "text/plain": [
       "2596"
      ]
     },
     "execution_count": 139,
     "metadata": {},
     "output_type": "execute_result"
    }
   ],
   "source": [
    "mink_coinbase.iloc[0]"
   ]
  },
  {
   "cell_type": "code",
   "execution_count": 122,
   "id": "792c3e23",
   "metadata": {},
   "outputs": [
    {
     "name": "stdout",
     "output_type": "stream",
     "text": [
      "Unexpected exception formatting exception. Falling back to standard exception\n"
     ]
    },
    {
     "name": "stderr",
     "output_type": "stream",
     "text": [
      "Traceback (most recent call last):\n",
      "  File \"C:\\Users\\Temp_Student_001\\AppData\\Local\\Packages\\PythonSoftwareFoundation.Python.3.10_qbz5n2kfra8p0\\LocalCache\\local-packages\\Python310\\site-packages\\IPython\\core\\interactiveshell.py\", line 3433, in run_code\n",
      "    exec(code_obj, self.user_global_ns, self.user_ns)\n",
      "  File \"C:\\Users\\Temp_Student_001\\AppData\\Local\\Temp\\ipykernel_11936\\2337496020.py\", line 90, in <module>\n",
      "    kappa = max(min(max_kappa, kappa_fit), min_kappa)\n",
      "  File \"C:\\Users\\Temp_Student_001\\AppData\\Local\\Packages\\PythonSoftwareFoundation.Python.3.10_qbz5n2kfra8p0\\LocalCache\\local-packages\\Python310\\site-packages\\pandas\\core\\generic.py\", line 1527, in __nonzero__\n",
      "    raise ValueError(\n",
      "ValueError: The truth value of a Series is ambiguous. Use a.empty, a.bool(), a.item(), a.any() or a.all().\n",
      "\n",
      "During handling of the above exception, another exception occurred:\n",
      "\n",
      "Traceback (most recent call last):\n",
      "  File \"C:\\Users\\Temp_Student_001\\AppData\\Local\\Packages\\PythonSoftwareFoundation.Python.3.10_qbz5n2kfra8p0\\LocalCache\\local-packages\\Python310\\site-packages\\IPython\\core\\interactiveshell.py\", line 2052, in showtraceback\n",
      "    stb = self.InteractiveTB.structured_traceback(\n",
      "  File \"C:\\Users\\Temp_Student_001\\AppData\\Local\\Packages\\PythonSoftwareFoundation.Python.3.10_qbz5n2kfra8p0\\LocalCache\\local-packages\\Python310\\site-packages\\IPython\\core\\ultratb.py\", line 1118, in structured_traceback\n",
      "    return FormattedTB.structured_traceback(\n",
      "  File \"C:\\Users\\Temp_Student_001\\AppData\\Local\\Packages\\PythonSoftwareFoundation.Python.3.10_qbz5n2kfra8p0\\LocalCache\\local-packages\\Python310\\site-packages\\IPython\\core\\ultratb.py\", line 1012, in structured_traceback\n",
      "    return VerboseTB.structured_traceback(\n",
      "  File \"C:\\Users\\Temp_Student_001\\AppData\\Local\\Packages\\PythonSoftwareFoundation.Python.3.10_qbz5n2kfra8p0\\LocalCache\\local-packages\\Python310\\site-packages\\IPython\\core\\ultratb.py\", line 865, in structured_traceback\n",
      "    formatted_exception = self.format_exception_as_a_whole(etype, evalue, etb, number_of_lines_of_context,\n",
      "  File \"C:\\Users\\Temp_Student_001\\AppData\\Local\\Packages\\PythonSoftwareFoundation.Python.3.10_qbz5n2kfra8p0\\LocalCache\\local-packages\\Python310\\site-packages\\IPython\\core\\ultratb.py\", line 818, in format_exception_as_a_whole\n",
      "    frames.append(self.format_record(r))\n",
      "  File \"C:\\Users\\Temp_Student_001\\AppData\\Local\\Packages\\PythonSoftwareFoundation.Python.3.10_qbz5n2kfra8p0\\LocalCache\\local-packages\\Python310\\site-packages\\IPython\\core\\ultratb.py\", line 736, in format_record\n",
      "    result += ''.join(_format_traceback_lines(frame_info.lines, Colors, self.has_colors, lvals))\n",
      "  File \"C:\\Users\\Temp_Student_001\\AppData\\Local\\Packages\\PythonSoftwareFoundation.Python.3.10_qbz5n2kfra8p0\\LocalCache\\local-packages\\Python310\\site-packages\\stack_data\\utils.py\", line 144, in cached_property_wrapper\n",
      "    value = obj.__dict__[self.func.__name__] = self.func(obj)\n",
      "  File \"C:\\Users\\Temp_Student_001\\AppData\\Local\\Packages\\PythonSoftwareFoundation.Python.3.10_qbz5n2kfra8p0\\LocalCache\\local-packages\\Python310\\site-packages\\stack_data\\core.py\", line 734, in lines\n",
      "    pieces = self.included_pieces\n",
      "  File \"C:\\Users\\Temp_Student_001\\AppData\\Local\\Packages\\PythonSoftwareFoundation.Python.3.10_qbz5n2kfra8p0\\LocalCache\\local-packages\\Python310\\site-packages\\stack_data\\utils.py\", line 144, in cached_property_wrapper\n",
      "    value = obj.__dict__[self.func.__name__] = self.func(obj)\n",
      "  File \"C:\\Users\\Temp_Student_001\\AppData\\Local\\Packages\\PythonSoftwareFoundation.Python.3.10_qbz5n2kfra8p0\\LocalCache\\local-packages\\Python310\\site-packages\\stack_data\\core.py\", line 677, in included_pieces\n",
      "    scope_pieces = self.scope_pieces\n",
      "  File \"C:\\Users\\Temp_Student_001\\AppData\\Local\\Packages\\PythonSoftwareFoundation.Python.3.10_qbz5n2kfra8p0\\LocalCache\\local-packages\\Python310\\site-packages\\stack_data\\utils.py\", line 144, in cached_property_wrapper\n",
      "    value = obj.__dict__[self.func.__name__] = self.func(obj)\n",
      "  File \"C:\\Users\\Temp_Student_001\\AppData\\Local\\Packages\\PythonSoftwareFoundation.Python.3.10_qbz5n2kfra8p0\\LocalCache\\local-packages\\Python310\\site-packages\\stack_data\\core.py\", line 614, in scope_pieces\n",
      "    scope_start, scope_end = self.source.line_range(self.scope)\n",
      "  File \"C:\\Users\\Temp_Student_001\\AppData\\Local\\Packages\\PythonSoftwareFoundation.Python.3.10_qbz5n2kfra8p0\\LocalCache\\local-packages\\Python310\\site-packages\\stack_data\\core.py\", line 178, in line_range\n",
      "    return line_range(self.asttext(), node)\n",
      "  File \"C:\\Users\\Temp_Student_001\\AppData\\Local\\Packages\\PythonSoftwareFoundation.Python.3.10_qbz5n2kfra8p0\\LocalCache\\local-packages\\Python310\\site-packages\\executing\\executing.py\", line 428, in asttext\n",
      "    self._asttext = ASTText(self.text, tree=self.tree, filename=self.filename)\n",
      "  File \"C:\\Users\\Temp_Student_001\\AppData\\Local\\Packages\\PythonSoftwareFoundation.Python.3.10_qbz5n2kfra8p0\\LocalCache\\local-packages\\Python310\\site-packages\\asttokens\\asttokens.py\", line 307, in __init__\n",
      "    super(ASTText, self).__init__(source_text, filename)\n",
      "  File \"C:\\Users\\Temp_Student_001\\AppData\\Local\\Packages\\PythonSoftwareFoundation.Python.3.10_qbz5n2kfra8p0\\LocalCache\\local-packages\\Python310\\site-packages\\asttokens\\asttokens.py\", line 44, in __init__\n",
      "    source_text = six.ensure_text(source_text)\n",
      "AttributeError: module 'six' has no attribute 'ensure_text'\n"
     ]
    }
   ],
   "source": [
    "start_timestamp = df_quotes.loc[0, 'timestamp']\n",
    "\n",
    "alpha, kappa = 0, 0\n",
    "prev_alpha, prev_kappa = 0, 0\n",
    "\n",
    "min_kappa = mink_coinbase\n",
    "min_alpha = 0 \n",
    "\n",
    "max_alpha = 50000000\n",
    "max_kappa = 2 / (math.e**(0.00001) - 1)\n",
    "\n",
    "alphas, kappas = [], []\n",
    "sampling_length = 30\n",
    "\n",
    "for i in range(len(df_trades) - (sampling_length+30)):\n",
    "    trade_samples = {}\n",
    "    \n",
    "    current_trade_sample = df_trades.loc[i:i+sampling_length+30][['timestamp', 'price', 'amount']]\n",
    "    current_trade_sample.index = range(len(current_trade_sample))\n",
    "    \n",
    "    current_quote_sample = df_quotes[(df_quotes['timestamp'] >= start_timestamp) & \n",
    "                                    (df_quotes['timestamp'] < current_trade_sample.loc[len(current_trade_sample)-1, 'timestamp'])]\n",
    "    \n",
    "    #get price levels for each trade\n",
    "    for j in range(len(current_trade_sample)):\n",
    "        \n",
    "        last_quote_df = df_quotes[df_quotes['timestamp'] < current_trade_sample.loc[j, 'timestamp']]\n",
    "        last_quote_df.index = range(len(last_quote_df))\n",
    "        \n",
    "        #Get last quote price & timestamp\n",
    "        last_quote_price = last_quote_df.loc[len(last_quote_df)-1, 'midprice']\n",
    "        last_quote_timestamp = current_trade_sample.loc[j, 'timestamp']\n",
    "        \n",
    "        #last_quote_timestamp = last_quote_df.loc[len(last_quote_df)-1, 'timestamp']\n",
    "        \n",
    "        trade = {\"price_level\": round((abs(current_trade_sample.loc[j, 'price'] - float(last_quote_price))), 5), \n",
    "                 \"amount\": current_trade_sample.loc[j, 'amount']}\n",
    "        \n",
    "        if last_quote_timestamp not in trade_samples.keys():\n",
    "            trade_samples[last_quote_timestamp] = []\n",
    "        \n",
    "        trade_samples[last_quote_timestamp] += [trade]\n",
    "    \n",
    "\n",
    "    if len(trade_samples.keys()) > sampling_length:\n",
    "        timestamps = list(trade_samples.keys())\n",
    "        timestamps.sort()\n",
    "        timestamps = timestamps[:sampling_length]\n",
    "\n",
    "        trade_samples_new = {}\n",
    "        \n",
    "        for timestamp in timestamps:\n",
    "            trade_samples_new[timestamp] = trade_samples[timestamp]\n",
    "            \n",
    "        trade_samples = trade_samples_new\n",
    "            \n",
    "    \n",
    "    ##We now have last 30 trades with price levels for each i\n",
    "    \n",
    "    # Calculate lambdas / trading intensities\n",
    "    lambdas = []\n",
    "    trades_consolidated = {} \n",
    "    price_levels = []\n",
    "\n",
    "    for timestamp in trade_samples.keys():\n",
    "        tick = trade_samples[timestamp]\n",
    "\n",
    "        for trade in tick: \n",
    "            if trade['price_level'] not in trades_consolidated.keys():\n",
    "                trades_consolidated[trade['price_level']] = 0\n",
    "                price_levels += [trade['price_level']]\n",
    "            \n",
    "            trades_consolidated[trade['price_level']] += trade['amount']\n",
    "    \n",
    "    #UPDATE LAMBDAS\n",
    "    for price_level in price_levels:\n",
    "        lambdas += [trades_consolidated[price_level]]\n",
    "        \n",
    "    for price_level in trades_consolidated.copy():\n",
    "        if trades_consolidated[price_level] < 100:\n",
    "            del trades_consolidated[price_level]\n",
    "\n",
    "    # Adjust to be able to calculate log\n",
    "    lambdas_adj = [10**-10 if x==0 else x for x in lambdas]\n",
    "    \n",
    "    ##First assign previous alpha & kappa \n",
    "    alpha_fit, kappa_fit = curve_fit_manual(price_levels, lambdas_adj, 0, 0)\n",
    "    \n",
    "    alpha = max(min(max_alpha, alpha_fit), min_alpha)\n",
    "    kappa = max(min(max_kappa, kappa_fit), min_kappa)\n",
    "    \n",
    "    alphas.append(alpha)\n",
    "    kappas.append(kappa)\n",
    "    \n",
    "    if len(alphas) > 1:\n",
    "        prev_alpha = alphas[-2]\n",
    "        prev_kappa = kappas[-2]\n",
    "    \n",
    "    if (alpha == 0) and (prev_alpha != 0) and len(alphas) > 1: \n",
    "        alphas[-1] = prev_alpha\n",
    "        alpha = 0\n",
    "        \n",
    "    if (kappa == 0) and (prev_kappa != 0) and len(kappas) > 1:\n",
    "        kappas[-1] = prev_kappa\n",
    "        kappa = 0\n",
    "        \n",
    "    if i % 1 == 0:\n",
    "        print(\"Calculating ({}\".format(np.round(100 * i / (len(df_trades) - (sampling_length+30)), 4)) + \"\"\"%)\"\"\", end='\\r')\n",
    "    \n",
    "    #Update start timestamp\n",
    "    start_timestamp = current_trade_sample.loc[0, 'timestamp'] "
   ]
  },
  {
   "cell_type": "code",
   "execution_count": 123,
   "id": "9e77795c",
   "metadata": {},
   "outputs": [
    {
     "data": {
      "text/plain": [
       "[2e-05, 5e-05, 6e-05, 7e-05, 3e-05, 4e-05, 1e-05, 0.0]"
      ]
     },
     "execution_count": 123,
     "metadata": {},
     "output_type": "execute_result"
    }
   ],
   "source": [
    "price_levels"
   ]
  },
  {
   "cell_type": "code",
   "execution_count": 124,
   "id": "87323cb0",
   "metadata": {},
   "outputs": [
    {
     "data": {
      "text/plain": [
       "[46673.49999999999, 9460.0, 21470.9, 7327.0, 24233.9, 11198.4, 3766.2, 1766.2]"
      ]
     },
     "execution_count": 124,
     "metadata": {},
     "output_type": "execute_result"
    }
   ],
   "source": [
    "lambdas_adj"
   ]
  },
  {
   "cell_type": "code",
   "execution_count": 125,
   "id": "ae3dab97",
   "metadata": {},
   "outputs": [
    {
     "data": {
      "text/plain": [
       "{2e-05: 46673.49999999999,\n",
       " 5e-05: 9460.0,\n",
       " 6e-05: 21470.9,\n",
       " 7e-05: 7327.0,\n",
       " 3e-05: 24233.9,\n",
       " 4e-05: 11198.4,\n",
       " 1e-05: 3766.2,\n",
       " 0.0: 1766.2}"
      ]
     },
     "execution_count": 125,
     "metadata": {},
     "output_type": "execute_result"
    }
   ],
   "source": [
    "trades_consolidated"
   ]
  },
  {
   "cell_type": "code",
   "execution_count": 126,
   "id": "45df572e",
   "metadata": {},
   "outputs": [
    {
     "data": {
      "text/plain": [
       "[<matplotlib.lines.Line2D at 0x1b974b97580>]"
      ]
     },
     "execution_count": 126,
     "metadata": {},
     "output_type": "execute_result"
    },
    {
     "data": {
      "image/png": "[encoded data removed]",
      "text/plain": [
       "<Figure size 640x480 with 1 Axes>"
      ]
     },
     "metadata": {},
     "output_type": "display_data"
    }
   ],
   "source": [
    "plt.plot(price_levels)"
   ]
  },
  {
   "cell_type": "code",
   "execution_count": 127,
   "id": "6eb8e999",
   "metadata": {},
   "outputs": [
    {
     "data": {
      "text/plain": [
       "[<matplotlib.lines.Line2D at 0x1b59c735600>]"
      ]
     },
     "execution_count": 127,
     "metadata": {},
     "output_type": "execute_result"
    },
    {
     "data": {
      "image/png": "[encoded data removed]",
      "text/plain": [
       "<Figure size 640x480 with 1 Axes>"
      ]
     },
     "metadata": {},
     "output_type": "display_data"
    }
   ],
   "source": [
    "plt.plot(lambdas_adj)"
   ]
  },
  {
   "cell_type": "code",
   "execution_count": 128,
   "id": "0398fbeb",
   "metadata": {},
   "outputs": [
    {
     "data": {
      "text/plain": [
       "<matplotlib.legend.Legend at 0x1b39560c6d0>"
      ]
     },
     "execution_count": 128,
     "metadata": {},
     "output_type": "execute_result"
    },
    {
     "data": {
      "image/png": "[encoded data removed]",
      "text/plain": [
       "<Figure size 1500x400 with 2 Axes>"
      ]
     },
     "metadata": {},
     "output_type": "display_data"
    }
   ],
   "source": [
    "f = plt.figure(figsize=(15, 4))\n",
    "f.add_subplot(1, 3, 1)\n",
    "plt.plot(kappas, color='black', label='kappa')\n",
    "plt.xlabel('Kappa', fontsize=16)\n",
    "plt.ylabel('Value', fontsize=16)\n",
    "plt.grid(True)\n",
    "plt.legend()\n",
    "\n",
    "f.add_subplot(1, 3, 2)\n",
    "plt.plot(alphas, color='black', label='alpha')\n",
    "plt.xlabel('Alpha', fontsize=16)\n",
    "plt.ylabel('Value', fontsize=16)\n",
    "plt.grid(True)\n",
    "plt.legend()"
   ]
  },
  {
   "cell_type": "code",
   "execution_count": 129,
   "id": "2c419d97",
   "metadata": {},
   "outputs": [],
   "source": [
    "def optimal_spread_stoikov(gamma, kappa):\n",
    "    spread = (2/gamma)*math.log(1+ (gamma/kappa)) \n",
    "    return spread\n",
    "\n",
    "def gueant_optimal_bids_asks(gamma, kappa, Q, alpha, sigma):\n",
    "    coef = math.sqrt(((sigma**2 * gamma)/(2*kappa*alpha))*(1+(gamma/kappa))**(1+(kappa/gamma)))\n",
    "    \n",
    "    optimal_bid = (1/gamma)*math.log(1+(gamma/kappa)) + (1/2)*(2*Q +1)*coef\n",
    "    \n",
    "    optimal_ask = (1/gamma)*math.log(1+(gamma/kappa)) - (1/2)*(-2*Q - 1)*coef\n",
    "    \n",
    "    return optimal_bid + optimal_ask"
   ]
  },
  {
   "cell_type": "code",
   "execution_count": 130,
   "id": "d527bcb1",
   "metadata": {},
   "outputs": [],
   "source": [
    "for i in range(len(kappas)):\n",
    "    if kappas[i] > 0:\n",
    "        index_pos = i \n",
    "        break"
   ]
  },
  {
   "cell_type": "code",
   "execution_count": 131,
   "id": "2d222013",
   "metadata": {},
   "outputs": [
    {
     "data": {
      "text/plain": [
       "0"
      ]
     },
     "execution_count": 131,
     "metadata": {},
     "output_type": "execute_result"
    }
   ],
   "source": [
    "index_pos"
   ]
  },
  {
   "cell_type": "code",
   "execution_count": 132,
   "id": "bb3e227c",
   "metadata": {},
   "outputs": [
    {
     "data": {
      "text/plain": [
       "Series([], Name: timestamp, dtype: datetime64[ns])"
      ]
     },
     "execution_count": 132,
     "metadata": {},
     "output_type": "execute_result"
    }
   ],
   "source": [
    "first_x_greeks = df_trades[30+index_pos:30+len(kappas)]['timestamp']\n",
    "first_x_greeks.index = range(len(first_x_greeks))\n",
    "first_x_greeks"
   ]
  },
  {
   "cell_type": "code",
   "execution_count": 133,
   "id": "cf259cc5",
   "metadata": {},
   "outputs": [],
   "source": [
    "market_spread = []\n",
    "level_5_spread = []\n",
    "level_15_spread = []\n",
    "level_20_spread = []\n",
    "\n",
    "for i in range(len(first_x_greeks)):\n",
    "    df_example = df_orderbook[df_orderbook['timestamp'] <= first_x_greeks[i]]\n",
    "    idx = len(df_example) - 1\n",
    "    \n",
    "    spread_1 = df_example.loc[idx, 'asks[0].price'] - df_example.loc[idx, 'bids[0].price']\n",
    "    market_spread.append(spread_1)\n",
    "    \n",
    "    spread_2 = df_example.loc[idx, 'asks[5].price'] - df_example.loc[idx, 'bids[5].price']\n",
    "    level_5_spread.append(spread_2)\n",
    "    \n",
    "    spread_3 = df_example.loc[idx, 'asks[15].price'] - df_example.loc[idx, 'bids[15].price']\n",
    "    level_15_spread.append(spread_3)"
   ]
  },
  {
   "cell_type": "code",
   "execution_count": 134,
   "id": "e86fcce7",
   "metadata": {},
   "outputs": [],
   "source": [
    "spreads_stoikov_1, spreads_stoikov_2, spreads_stoikov_3 = [], [], []\n",
    "spreads_gueant_1, spreads_gueant_2, spreads_gueant_3 = [], [], []\n",
    "\n",
    "gamma_1 = 0.01\n",
    "gamma_2 = 0.1\n",
    "gamma_3 = 0.99\n",
    "\n",
    "for i in range(len(first_x_greeks)):\n",
    "    spread_stoikov_1 = optimal_spread_stoikov(gamma_1/market_spread[i], kappas[i+index_pos])\n",
    "    spread_gueant_1 = gueant_optimal_bids_asks(gamma_1/market_spread[i], kappas[i+index_pos], 0, alphas[i], 0.0002)\n",
    "    \n",
    "    spreads_stoikov_1.append(spread_stoikov_1)\n",
    "    spreads_gueant_1.append(spread_gueant_1)\n",
    "    \n",
    "    spread_stoikov_2 = optimal_spread_stoikov(gamma_2/market_spread[i], kappas[i+index_pos])\n",
    "    spread_gueant_2 = gueant_optimal_bids_asks(gamma_2/market_spread[i], kappas[i+index_pos], 0, alphas[i], 0.0002)\n",
    "    \n",
    "    spreads_stoikov_2.append(spread_stoikov_2)\n",
    "    spreads_gueant_2.append(spread_gueant_2)\n",
    "    \n",
    "    spread_stoikov_3 = optimal_spread_stoikov(gamma_3/market_spread[i], kappas[i+index_pos])\n",
    "    spread_gueant_3 = gueant_optimal_bids_asks(gamma_3/market_spread[i], kappas[i+index_pos], 0, alphas[i], 0.0002)\n",
    "    \n",
    "    spreads_stoikov_3.append(spread_stoikov_3)\n",
    "    spreads_gueant_3.append(spread_gueant_3)"
   ]
  },
  {
   "cell_type": "code",
   "execution_count": 135,
   "id": "fd8e6d62",
   "metadata": {},
   "outputs": [],
   "source": [
    "spreads_stoikov_4, spreads_stoikov_5, spreads_stoikov_6 = [], [], []\n",
    "\n",
    "gamma_1 = 0.01\n",
    "gamma_2 = 0.1\n",
    "gamma_3 = 0.99\n",
    "\n",
    "for i in range(len(first_x_greeks) - 7):\n",
    "    spread_stoikov_4 = optimal_spread_stoikov(gamma_1, kappas[i+index_pos])\n",
    "    spreads_stoikov_4.append(spread_stoikov_4)\n",
    "    \n",
    "    spread_stoikov_5 = optimal_spread_stoikov(gamma_2, kappas[i+index_pos])\n",
    "    spreads_stoikov_5.append(spread_stoikov_5)\n",
    "    \n",
    "    spread_stoikov_6 = optimal_spread_stoikov(gamma_3, kappas[i+index_pos])\n",
    "    spreads_stoikov_6.append(spread_stoikov_6)"
   ]
  },
  {
   "cell_type": "code",
   "execution_count": 136,
   "id": "2a37fd1b",
   "metadata": {},
   "outputs": [
    {
     "data": {
      "image/png": "[encoded data removed]",
      "text/plain": [
       "<Figure size 1500x400 with 3 Axes>"
      ]
     },
     "metadata": {},
     "output_type": "display_data"
    }
   ],
   "source": [
    "f = plt.figure(figsize=(15, 4))\n",
    "f.add_subplot(1, 3, 1)\n",
    "plt.plot(np.arange(0,len(spreads_stoikov_1),1), spreads_stoikov_1, color='red', label= 'Stoikov Spread', alpha = 0.5  )\n",
    "plt.plot(np.arange(0,len(spreads_stoikov_4),1), spreads_stoikov_4, color='blue', label= 'Stoikov Spread nd', alpha = 0.5  )\n",
    "plt.plot(np.arange(0,len(market_spread),1), market_spread, color ='black', label= 'Market Spread' )\n",
    "plt.plot(np.arange(0,len(level_5_spread),1), level_5_spread, color ='green', label= 'Level 5 Spread')\n",
    "plt.plot(np.arange(0,len(level_15_spread),1), level_15_spread, color ='blue', label= 'Level 15 Spread')\n",
    "plt.xlabel('Time, Gamma = {}'.format(gamma_1), fontsize=16)\n",
    "plt.ylabel('Optimal spread', fontsize=16)\n",
    "plt.grid(True)\n",
    "plt.legend()\n",
    "\n",
    "f.add_subplot(1, 3, 2)\n",
    "plt.plot(np.arange(0,len(spreads_stoikov_2),1), spreads_stoikov_2, color='red', label= 'Stoikov Spread', alpha = 0.5 )\n",
    "plt.plot(np.arange(0,len(spreads_stoikov_5),1), spreads_stoikov_5, color='blue', label= 'Stoikov Spread nd', alpha = 0.5 )\n",
    "plt.plot(np.arange(0,len(market_spread),1), market_spread, color ='black', label= 'Market Spread' )\n",
    "plt.plot(np.arange(0,len(level_5_spread),1), level_5_spread, color ='green', label= 'Level 5 Spread')\n",
    "plt.plot(np.arange(0,len(level_15_spread),1), level_15_spread, color ='blue', label= 'Level 15 Spread')\n",
    "plt.xlabel('Time, Gamma = {}'.format(gamma_2), fontsize=16)\n",
    "plt.ylabel('Optimal spread', fontsize=16)\n",
    "plt.grid(True)\n",
    "plt.legend()\n",
    "\n",
    "f.add_subplot(1, 3, 3)\n",
    "plt.plot(np.arange(0,len(spreads_stoikov_3), 1), spreads_stoikov_3, color='red', label= 'Stoikov Spread', alpha = 0.5 )\n",
    "plt.plot(np.arange(0,len(spreads_stoikov_6), 1), spreads_stoikov_6, color='blue', label= 'Stoikov Spread nd', alpha = 0.5 )\n",
    "plt.plot(np.arange(0,len(market_spread), 1), market_spread, color ='black', label= 'Market Spread')\n",
    "plt.plot(np.arange(0,len(level_5_spread),1), level_5_spread, color ='green', label= 'Level 5 Spread')\n",
    "plt.plot(np.arange(0,len(level_15_spread),1), level_15_spread, color ='blue', label= 'Level 15 Spread')\n",
    "plt.xlabel('Time, Gamma = {}'.format(gamma_3), fontsize=16)\n",
    "plt.ylabel('Optimal spread', fontsize=16)\n",
    "plt.grid(True)\n",
    "plt.legend()\n",
    "\n",
    "plt.savefig(r\"C:\\Users\\Temp_Student_001\\Desktop\\research\\0.projects\\Ariyan\\Dataset Coinbase1\")"
   ]
  },
  {
   "cell_type": "code",
   "execution_count": null,
   "id": "2b3e8f4a",
   "metadata": {},
   "outputs": [],
   "source": []
  },
  {
   "cell_type": "code",
   "execution_count": null,
   "id": "f665efa7",
   "metadata": {},
   "outputs": [],
   "source": []
  },
  {
   "cell_type": "code",
   "execution_count": null,
   "id": "e1a47188",
   "metadata": {},
   "outputs": [],
   "source": []
  },
  {
   "cell_type": "code",
   "execution_count": null,
   "id": "ff0bfb3e",
   "metadata": {},
   "outputs": [],
   "source": []
  },
  {
   "cell_type": "code",
   "execution_count": null,
   "id": "923e8007",
   "metadata": {},
   "outputs": [],
   "source": []
  },
  {
   "cell_type": "code",
   "execution_count": null,
   "id": "7181364e",
   "metadata": {},
   "outputs": [],
   "source": []
  },
  {
   "cell_type": "code",
   "execution_count": null,
   "id": "e32a700d",
   "metadata": {},
   "outputs": [],
   "source": []
  },
  {
   "cell_type": "code",
   "execution_count": null,
   "id": "97d87e30",
   "metadata": {},
   "outputs": [],
   "source": []
  },
  {
   "cell_type": "code",
   "execution_count": null,
   "id": "08d47b32",
   "metadata": {},
   "outputs": [],
   "source": []
  },
  {
   "cell_type": "code",
   "execution_count": null,
   "id": "a328f212",
   "metadata": {},
   "outputs": [],
   "source": []
  },
  {
   "cell_type": "code",
   "execution_count": null,
   "id": "5db6ab1a",
   "metadata": {},
   "outputs": [],
   "source": []
  },
  {
   "cell_type": "code",
   "execution_count": null,
   "id": "1389fbbd",
   "metadata": {},
   "outputs": [],
   "source": []
  },
  {
   "cell_type": "code",
   "execution_count": null,
   "id": "50f749a3",
   "metadata": {},
   "outputs": [],
   "source": []
  },
  {
   "cell_type": "code",
   "execution_count": null,
   "id": "b33db4eb",
   "metadata": {},
   "outputs": [],
   "source": []
  },
  {
   "cell_type": "code",
   "execution_count": null,
   "id": "4c9b772a",
   "metadata": {},
   "outputs": [],
   "source": []
  },
  {
   "cell_type": "code",
   "execution_count": null,
   "id": "f928f686",
   "metadata": {},
   "outputs": [],
   "source": []
  }
 ],
 "metadata": {
  "kernelspec": {
   "display_name": "Python 3",
   "language": "python",
   "name": "python3"
  },
  "language_info": {
   "codemirror_mode": {
    "name": "ipython",
    "version": 3
   },
   "file_extension": ".py",
   "mimetype": "text/x-python",
   "name": "python",
   "nbconvert_exporter": "python",
   "pygments_lexer": "ipython3",
   "version": "3.10.10"
  },
  "vscode": {
   "interpreter": {
    "hash": "5c7ed050add17bc684f4df7b28a9bee3251466fc1c4b64044d72169751b252bc"
   }
  }
 },
 "nbformat": 4,
 "nbformat_minor": 5
}
